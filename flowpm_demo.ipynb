{
  "nbformat": 4,
  "nbformat_minor": 0,
  "metadata": {
    "kernelspec": {
      "display_name": "Python 3",
      "language": "python",
      "name": "python3"
    },
    "language_info": {
      "codemirror_mode": {
        "name": "ipython",
        "version": 3
      },
      "file_extension": ".py",
      "mimetype": "text/x-python",
      "name": "python",
      "nbconvert_exporter": "python",
      "pygments_lexer": "ipython3",
      "version": "3.8.3"
    },
    "colab": {
      "name": "flowpm_demo.ipynb",
      "provenance": [],
      "collapsed_sections": [],
      "include_colab_link": true
    },
    "accelerator": "GPU"
  },
  "cells": [
    {
      "cell_type": "markdown",
      "metadata": {
        "id": "view-in-github",
        "colab_type": "text"
      },
      "source": [
        "<a href=\"https://colab.research.google.com/github/modichirag/flowpm/blob/cleanup/flowpm_demo.ipynb\" target=\"_parent\"><img src=\"https://colab.research.google.com/assets/colab-badge.svg\" alt=\"Open In Colab\"/></a>"
      ]
    },
    {
      "cell_type": "code",
      "metadata": {
        "id": "nCeEALpcVzDh",
        "colab": {
          "base_uri": "https://localhost:8080/"
        },
        "outputId": "17512bcc-0feb-4ed7-b788-d739036bf90c"
      },
      "source": [
        "!pip install --quiet git+https://github.com/modichirag/flowpm.git@cleanup"
      ],
      "execution_count": 4,
      "outputs": [
        {
          "output_type": "stream",
          "text": [
            "\u001b[?25l\r\u001b[K     |█                               | 10kB 22.2MB/s eta 0:00:01\r\u001b[K     |█▉                              | 20kB 26.6MB/s eta 0:00:01\r\u001b[K     |██▊                             | 30kB 13.5MB/s eta 0:00:01\r\u001b[K     |███▋                            | 40kB 10.3MB/s eta 0:00:01\r\u001b[K     |████▌                           | 51kB 8.5MB/s eta 0:00:01\r\u001b[K     |█████▍                          | 61kB 8.7MB/s eta 0:00:01\r\u001b[K     |██████▍                         | 71kB 8.4MB/s eta 0:00:01\r\u001b[K     |███████▎                        | 81kB 8.7MB/s eta 0:00:01\r\u001b[K     |████████▏                       | 92kB 8.4MB/s eta 0:00:01\r\u001b[K     |█████████                       | 102kB 8.9MB/s eta 0:00:01\r\u001b[K     |██████████                      | 112kB 8.9MB/s eta 0:00:01\r\u001b[K     |██████████▉                     | 122kB 8.9MB/s eta 0:00:01\r\u001b[K     |███████████▉                    | 133kB 8.9MB/s eta 0:00:01\r\u001b[K     |████████████▊                   | 143kB 8.9MB/s eta 0:00:01\r\u001b[K     |█████████████▋                  | 153kB 8.9MB/s eta 0:00:01\r\u001b[K     |██████████████▌                 | 163kB 8.9MB/s eta 0:00:01\r\u001b[K     |███████████████▍                | 174kB 8.9MB/s eta 0:00:01\r\u001b[K     |████████████████▎               | 184kB 8.9MB/s eta 0:00:01\r\u001b[K     |█████████████████▏              | 194kB 8.9MB/s eta 0:00:01\r\u001b[K     |██████████████████▏             | 204kB 8.9MB/s eta 0:00:01\r\u001b[K     |███████████████████             | 215kB 8.9MB/s eta 0:00:01\r\u001b[K     |████████████████████            | 225kB 8.9MB/s eta 0:00:01\r\u001b[K     |████████████████████▉           | 235kB 8.9MB/s eta 0:00:01\r\u001b[K     |█████████████████████▊          | 245kB 8.9MB/s eta 0:00:01\r\u001b[K     |██████████████████████▋         | 256kB 8.9MB/s eta 0:00:01\r\u001b[K     |███████████████████████▋        | 266kB 8.9MB/s eta 0:00:01\r\u001b[K     |████████████████████████▌       | 276kB 8.9MB/s eta 0:00:01\r\u001b[K     |█████████████████████████▍      | 286kB 8.9MB/s eta 0:00:01\r\u001b[K     |██████████████████████████▎     | 296kB 8.9MB/s eta 0:00:01\r\u001b[K     |███████████████████████████▏    | 307kB 8.9MB/s eta 0:00:01\r\u001b[K     |████████████████████████████    | 317kB 8.9MB/s eta 0:00:01\r\u001b[K     |█████████████████████████████   | 327kB 8.9MB/s eta 0:00:01\r\u001b[K     |██████████████████████████████  | 337kB 8.9MB/s eta 0:00:01\r\u001b[K     |██████████████████████████████▉ | 348kB 8.9MB/s eta 0:00:01\r\u001b[K     |███████████████████████████████▊| 358kB 8.9MB/s eta 0:00:01\r\u001b[K     |████████████████████████████████| 368kB 8.9MB/s \n",
            "\u001b[?25h  Building wheel for flowpm (setup.py) ... \u001b[?25l\u001b[?25hdone\n"
          ],
          "name": "stdout"
        }
      ]
    },
    {
      "cell_type": "code",
      "metadata": {
        "id": "umoIjtwdVzDi",
        "colab": {
          "base_uri": "https://localhost:8080/"
        },
        "outputId": "47d9ebd7-83c2-4999-ead3-24d30d7f1a70"
      },
      "source": [
        "%pylab inline\n",
        "import tensorflow as tf\n",
        "import numpy as np"
      ],
      "execution_count": 5,
      "outputs": [
        {
          "output_type": "stream",
          "text": [
            "Populating the interactive namespace from numpy and matplotlib\n"
          ],
          "name": "stdout"
        }
      ]
    },
    {
      "cell_type": "code",
      "metadata": {
        "id": "HpLkL4hLVzDj"
      },
      "source": [
        "# Define key parameters of our Universe\n",
        "a0      = 0.1       #the initial epoch from where we begin the evolution, a0=0 corresponds to birth but is numerically unstable\n",
        "af      = 1.0       #final epoch where we visualize structures, af=1 corresponds to today\n",
        "n_steps = 10        #number of time-steps to split the total evolution into\n",
        "L       = 100       #Physical size of the Universe in Mpc/h\n",
        "N       = 32        #Number of mesh-points along one axis, size of the cube. Then the number of particles will be N^3\n",
        "batch   = 16        #Batch size, how many independent Universes to simulate"
      ],
      "execution_count": 6,
      "outputs": []
    },
    {
      "cell_type": "code",
      "metadata": {
        "id": "5Tg43UiIOK9X"
      },
      "source": [
        "import flowpm\n",
        "from flowpm.tfpower import linear_matter_power\n",
        "from flowpm.tfbackground import cosmo\n",
        "\n",
        "@tf.function\n",
        "def simulation(om, s8):\n",
        "    cosmo['sigma8'] = tf.convert_to_tensor(s8, dtype=tf.float32)\n",
        "    cosmo['Omega0_m'] = tf.convert_to_tensor(om, dtype=tf.float32)\n",
        "    \n",
        "    stages = np.linspace(a0, af, n_steps, endpoint=True) #time-steps for the integration\n",
        "    \n",
        "    initial_conditions = flowpm.linear_field(N,          # size of the cube\n",
        "                                             L,          # Physical size of the cube\n",
        "                                             lambda k: tf.cast(linear_matter_power(cosmo, k), tf.complex64), # Initial powerspectrum\n",
        "                                             batch_size=16)\n",
        "\n",
        "    # Sample particles\n",
        "    state = flowpm.lpt_init(initial_conditions, a0)   \n",
        "\n",
        "    # Evolve particles down to z=0\n",
        "    final_state = flowpm.nbody(state, stages, 32)         \n",
        "\n",
        "    # Retrieve final density field\n",
        "    final_field = flowpm.cic_paint(tf.zeros_like(initial_conditions), final_state[0])\n",
        "    \n",
        "    return final_field"
      ],
      "execution_count": 7,
      "outputs": []
    },
    {
      "cell_type": "code",
      "metadata": {
        "id": "_bKvRlgVOPve",
        "outputId": "8a989061-ecc6-498b-b944-b4a17ad97619",
        "colab": {
          "base_uri": "https://localhost:8080/"
        }
      },
      "source": [
        "final_field = simulation(0.3075, 0.8159)"
      ],
      "execution_count": 8,
      "outputs": [
        {
          "output_type": "stream",
          "text": [
            "WARNING:tensorflow:@custom_gradient grad_fn has 'variables' in signature, but no ResourceVariables were used on the forward pass.\n"
          ],
          "name": "stdout"
        }
      ]
    },
    {
      "cell_type": "code",
      "metadata": {
        "id": "qWntN7isVzDj",
        "colab": {
          "base_uri": "https://localhost:8080/",
          "height": 284
        },
        "outputId": "1318cb49-b67a-4844-c8b4-7e3e50fd48d5"
      },
      "source": [
        "imshow(final_field[0].numpy().sum(axis=0))"
      ],
      "execution_count": 9,
      "outputs": [
        {
          "output_type": "execute_result",
          "data": {
            "text/plain": [
              "<matplotlib.image.AxesImage at 0x7f2ab4c26668>"
            ]
          },
          "metadata": {
            "tags": []
          },
          "execution_count": 9
        },
        {
          "output_type": "display_data",
          "data": {
            "image/png": "[encoded data removed]",
            "text/plain": [
              "<Figure size 432x288 with 1 Axes>"
            ]
          },
          "metadata": {
            "tags": [],
            "needs_background": "light"
          }
        }
      ]
    },
    {
      "cell_type": "code",
      "metadata": {
        "id": "v-GO7KflVzDl"
      },
      "source": [
        ""
      ],
      "execution_count": null,
      "outputs": []
    }
  ]
}