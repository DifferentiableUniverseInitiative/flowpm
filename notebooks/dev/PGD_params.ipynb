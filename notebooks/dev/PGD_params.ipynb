{
 "cells": [
  {
   "cell_type": "code",
   "execution_count": 6,
   "id": "cfa7a058-3a86-4106-bb6c-4d3890644af0",
   "metadata": {},
   "outputs": [],
   "source": [
    "import pickle\n",
    "import os"
   ]
  },
  {
   "cell_type": "code",
   "execution_count": 7,
   "id": "735b7bcd-4d00-48bb-b96a-c2eb7588bb78",
   "metadata": {},
   "outputs": [],
   "source": [
    "nsteps= 40\n",
    "res   = 1\n",
    "B     = 2"
   ]
  },
  {
   "cell_type": "code",
   "execution_count": 8,
   "id": "0e2f9090-f0a2-470c-921d-78b4e9dc084c",
   "metadata": {},
   "outputs": [],
   "source": [
    "if nsteps==40:\n",
    "    if res==1:\n",
    "        if B==2:\n",
    "            alpha0 = 0.002696244\n",
    "            mu     = -1.659049\n",
    "            kl     = 1.747188\n",
    "            ks     = 12.49952\n",
    "elif nsteps==11:\n",
    "    if res==2.:\n",
    "        if B==2.:\n",
    "            kl      = 0.62717527\n",
    "            ks      = 1.61288947\n",
    "            alpha0  = 0.01298855\n",
    "            mu      = -2.59606026\n",
    "    if res==1.:\n",
    "        if B==2.:\n",
    "            kl      = 0.358152\n",
    "            ks      = 6.453695\n",
    "            alpha0  = 0.00302657\n",
    "            mu      = -2.30719\n",
    "elif nsteps==20:\n",
    "    if res==1:\n",
    "        if B==1:\n",
    "            alpha0 = 0.002419\n",
    "            mu = -2.46117\n",
    "            kl = 0.2488\n",
    "            ks = 12.3994\n",
    "elif nsteps==15:\n",
    "    if res==1:\n",
    "        if B==1:\n",
    "            alpha0 = 0.00326087\n",
    "            mu  = -2.39052\n",
    "            kl = 0.2488\n",
    "            ks = 12.3168\n",
    "        elif B==2:   \n",
    "            alpha0 = 0.0021330450513139193\n",
    "            mu = -2.361568621015739\n",
    "            kl = 0.2206702075608051\n",
    "            ks = 4.08746202312056\n",
    "#             alpha0 = 0.00273588\n",
    "#             mu = -2.45927\n",
    "#             kl = 0.280104\n",
    "#             ks = 2.51729\n",
    "else:\n",
    "    raise ValueError('no parameters for this config')"
   ]
  },
  {
   "cell_type": "code",
   "execution_count": 9,
   "id": "88bae65c-89fe-412c-b02b-f8bc34659ec1",
   "metadata": {},
   "outputs": [],
   "source": [
    "params = dict(alpha0=alpha0, mu=mu, kl=kl, ks=ks)"
   ]
  },
  {
   "cell_type": "code",
   "execution_count": 10,
   "id": "bb5de64f-8952-4aa0-8705-dac3f7c1e78b",
   "metadata": {},
   "outputs": [],
   "source": [
    "pgd_dir = '../pgd_params/'\n",
    "if not os.path.isdir(pgd_dir):\n",
    "    os.makedirs(pgd_dir)\n",
    "pgd_file= os.path.join(pgd_dir,'pgd_params_%d_%d_%d.pkl'%(B,res,nsteps))\n",
    "pickle.dump(params, open(pgd_file,'wb'))"
   ]
  },
  {
   "cell_type": "code",
   "execution_count": null,
   "id": "a33bfaf4-4d1a-4600-a5f4-9ed6ab09c405",
   "metadata": {},
   "outputs": [],
   "source": []
  }
 ],
 "metadata": {
  "kernelspec": {
   "display_name": "tfpython",
   "language": "python",
   "name": "tfpython"
  },
  "language_info": {
   "codemirror_mode": {
    "name": "ipython",
    "version": 3
   },
   "file_extension": ".py",
   "mimetype": "text/x-python",
   "name": "python",
   "nbconvert_exporter": "python",
   "pygments_lexer": "ipython3",
   "version": "3.8.5"
  }
 },
 "nbformat": 4,
 "nbformat_minor": 5
}
