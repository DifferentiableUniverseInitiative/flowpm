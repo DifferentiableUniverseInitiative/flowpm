{
 "cells": [
  {
   "cell_type": "code",
   "execution_count": 108,
   "metadata": {},
   "outputs": [],
   "source": [
    "import numpy as np\n",
    "import tensorflow as tf\n",
    "import flowpm\n",
    "import tensorflow_probability as tfp"
   ]
  },
  {
   "cell_type": "code",
   "execution_count": 109,
   "metadata": {},
   "outputs": [],
   "source": [
    "cosmo={\"w0\":-1.0,\n",
    "       \"wa\":0.0,\n",
    "       \"H0\":100,\n",
    "       \"h\":0.6774,\n",
    "       \"Omega0_b\":0.04860,\n",
    "       \"Omega0_c\":0.2589,\n",
    "       \"Omega0_m\":0.3075,\n",
    "       \"Omega0_k\":0.0,\n",
    "       \"Omega0_de\":0.6925,\n",
    "       \"n_s\":0.9667,\n",
    "       \"sigma8\":0.8159}\n",
    "\n",
    "# Planck 2015 paper XII Table 4 final column (best fit)"
   ]
  },
  {
   "cell_type": "code",
   "execution_count": 110,
   "metadata": {},
   "outputs": [],
   "source": [
    "def fde(cosmo,a,epsilon=1e-5):\n",
    "    a=tf.convert_to_tensor(a,dtype=tf.float32)\n",
    "    w0=tf.convert_to_tensor(cosmo[\"w0\"],dtype=tf.float32)\n",
    "    wa=tf.convert_to_tensor(cosmo[\"wa\"],dtype=tf.float32)\n",
    "    return (-3.0*(1.0+w0)+\n",
    "            3.0*wa*((a-1.0)/tf.math.log(a-epsilon)-1.0))"
   ]
  },
  {
   "cell_type": "code",
   "execution_count": 111,
   "metadata": {},
   "outputs": [],
   "source": [
    "def w(cosmo,a):\n",
    "    a=tf.convert_to_tensor(a,dtype=tf.float32)\n",
    "    w0=tf.convert_to_tensor(cosmo[\"w0\"],dtype=tf.float32)\n",
    "    wa=tf.convert_to_tensor(cosmo[\"wa\"],dtype=tf.float32)\n",
    "    return w0+wa*(1.0-a)"
   ]
  },
  {
   "cell_type": "code",
   "execution_count": 112,
   "metadata": {},
   "outputs": [],
   "source": [
    "def E(cosmo,a):\n",
    "    a=tf.convert_to_tensor(a,dtype=tf.float32)\n",
    "    return(tf.math.sqrt(\n",
    "        cosmo[\"Omega0_m\"]/tf.pow(a, 3)\n",
    "        +cosmo[\"Omega0_k\"]/tf.pow(a, 2)\n",
    "        +cosmo[\"Omega0_de\"]*tf.pow(a, fde(cosmo,a))))"
   ]
  },
  {
   "cell_type": "code",
   "execution_count": 113,
   "metadata": {},
   "outputs": [],
   "source": [
    "def H(cosmo, a):\n",
    "    a=tf.convert_to_tensor(a,dtype=tf.float32)\n",
    "    return cosmo[\"H0\"]*cosmo[\"h\"] *(E(cosmo, a))"
   ]
  },
  {
   "cell_type": "code",
   "execution_count": 114,
   "metadata": {},
   "outputs": [],
   "source": [
    "def dfde(cosmo,a,epsilon=1e-5):\n",
    "    a=tf.convert_to_tensor(a,dtype=tf.float32)\n",
    "    wa=tf.convert_to_tensor(cosmo[\"wa\"],dtype=tf.float32)\n",
    "    return (3*wa*\n",
    "            (tf.math.log(a-epsilon)-(a-1)/(a-epsilon))\n",
    "            /tf.math.pow(tf.math.log(a-epsilon),2))"
   ]
  },
  {
   "cell_type": "code",
   "execution_count": 115,
   "metadata": {},
   "outputs": [],
   "source": [
    "def dEa(cosmo,a,epsilon=1e-5):\n",
    "    a=tf.convert_to_tensor(a,dtype=tf.float32)\n",
    "    return 0.5*(-3*cosmo[\"Omega0_m\"]/tf.pow(a, 4)-2*cosmo[\"Omega0_k\"]/tf.pow(a, 3)\n",
    "    +dfde(cosmo,a)*cosmo[\"Omega0_de\"]*tf.pow(a, fde(cosmo,a)))\n",
    "    \n"
   ]
  },
  {
   "cell_type": "code",
   "execution_count": 116,
   "metadata": {},
   "outputs": [],
   "source": [
    "def Omega_m_a(cosmo,a):\n",
    "    a=tf.convert_to_tensor(a,dtype=tf.float32)\n",
    "    return cosmo[\"Omega0_m\"]*tf.math.pow(a,-3)/E(cosmo,a)**2"
   ]
  },
  {
   "cell_type": "code",
   "execution_count": 117,
   "metadata": {},
   "outputs": [],
   "source": [
    "log10_amin=-3\n",
    "steps=128\n",
    "atab = np.logspace(log10_amin, 0.0, steps)\n",
    "atab=tf.convert_to_tensor(atab,dtype=tf.float32)\n",
    "y0 = 1\n",
    "y0 = tf.convert_to_tensor(y0,dtype=tf.float32)"
   ]
  },
  {
   "cell_type": "code",
   "execution_count": 118,
   "metadata": {},
   "outputs": [],
   "source": [
    "@tf.function\n",
    "def growt_rate(y,a):\n",
    "    a=tf.convert_to_tensor(a,dtype=tf.float32)\n",
    "    dyda=tf.pow(y,2)*a+(2*a-(dEa(cosmo,a)/E(cosmo,a)))*y-1.5*Omega_m_a(cosmo,a)*a\n",
    "    return dyda"
   ]
  },
  {
   "cell_type": "code",
   "execution_count": 119,
   "metadata": {},
   "outputs": [],
   "source": [
    "@tf.function\n",
    "def odesolve_rate(atab,y0):\n",
    "    solver=tfp.math.ode.BDF()\n",
    "    results = solver.solve(growt,atab[0], y0, solution_times=atab)\n",
    "    return results\n"
   ]
  },
  {
   "cell_type": "code",
   "execution_count": 120,
   "metadata": {},
   "outputs": [
    {
     "name": "stdout",
     "output_type": "stream",
     "text": [
      "WARNING:tensorflow:@custom_gradient grad_fn has 'variables' in signature, but no ResourceVariables were used on the forward pass.\n"
     ]
    }
   ],
   "source": [
    "results_rate=odesolve_rate(atab,y0)"
   ]
  },
  {
   "cell_type": "code",
   "execution_count": 121,
   "metadata": {},
   "outputs": [
    {
     "name": "stdout",
     "output_type": "stream",
     "text": [
      "Populating the interactive namespace from numpy and matplotlib\n"
     ]
    },
    {
     "data": {
      "text/plain": [
       "[<matplotlib.lines.Line2D at 0x7fb4f6a2ad90>]"
      ]
     },
     "execution_count": 121,
     "metadata": {},
     "output_type": "execute_result"
    },
    {
     "data": {
      "image/png": "[encoded data removed]",
      "text/plain": [
       "<Figure size 432x288 with 1 Axes>"
      ]
     },
     "metadata": {
      "needs_background": "light"
     },
     "output_type": "display_data"
    }
   ],
   "source": [
    "%pylab inline\n",
    "plot(results.times,results.states)"
   ]
  },
  {
   "cell_type": "code",
   "execution_count": 122,
   "metadata": {},
   "outputs": [],
   "source": [
    "y0 = np.array([atab[0], 1.0])\n",
    "y0 = tf.convert_to_tensor(y0,dtype=tf.float32)"
   ]
  },
  {
   "cell_type": "code",
   "execution_count": 123,
   "metadata": {},
   "outputs": [],
   "source": [
    "@tf.function\n",
    "def growt_func(y,a):\n",
    "    y=tf.convert_to_tensor(y)\n",
    "    a=tf.convert_to_tensor(a)\n",
    "    d,d_f=y\n",
    "    dydt=[d_f,\n",
    "         -d_f/a+\n",
    "          tf.math.pow(d_f,2)/d+\n",
    "          tf.math.pow(d_f,2)*tf.math.pow(a,2)/d+\n",
    "          (2*a-(dEa(cosmo,a)/E(cosmo,a)))*d_f-\n",
    "          1.5*Omega_m_a(cosmo,a)*d\n",
    "         ]"
   ]
  },
  {
   "cell_type": "code",
   "execution_count": 124,
   "metadata": {},
   "outputs": [],
   "source": [
    "@tf.function\n",
    "def odesolve_func(atab,y0):\n",
    "    solver=tfp.math.ode.BDF()\n",
    "    results = solver.solve(growt,atab[0], y0, solution_times=atab)\n",
    "    return results"
   ]
  },
  {
   "cell_type": "code",
   "execution_count": 125,
   "metadata": {},
   "outputs": [
    {
     "name": "stdout",
     "output_type": "stream",
     "text": [
      "WARNING:tensorflow:@custom_gradient grad_fn has 'variables' in signature, but no ResourceVariables were used on the forward pass.\n"
     ]
    }
   ],
   "source": [
    "results_func=odesolve_func(atab,y0)"
   ]
  },
  {
   "cell_type": "code",
   "execution_count": 141,
   "metadata": {},
   "outputs": [
    {
     "name": "stdout",
     "output_type": "stream",
     "text": [
      "Populating the interactive namespace from numpy and matplotlib\n"
     ]
    },
    {
     "data": {
      "image/png": "[encoded data removed]",
      "text/plain": [
       "<Figure size 432x288 with 1 Axes>"
      ]
     },
     "metadata": {
      "needs_background": "light"
     },
     "output_type": "display_data"
    }
   ],
   "source": [
    "%pylab inline\n",
    "plot(results_func.times,results_func.states)\n",
    "savefig(\"growt_function.png\",dpi=200)"
   ]
  },
  {
   "cell_type": "code",
   "execution_count": null,
   "metadata": {},
   "outputs": [],
   "source": []
  }
 ],
 "metadata": {
  "kernelspec": {
   "display_name": "Python 3",
   "language": "python",
   "name": "python3"
  },
  "language_info": {
   "codemirror_mode": {
    "name": "ipython",
    "version": 3
   },
   "file_extension": ".py",
   "mimetype": "text/x-python",
   "name": "python",
   "nbconvert_exporter": "python",
   "pygments_lexer": "ipython3",
   "version": "3.8.3"
  }
 },
 "nbformat": 4,
 "nbformat_minor": 4
}
