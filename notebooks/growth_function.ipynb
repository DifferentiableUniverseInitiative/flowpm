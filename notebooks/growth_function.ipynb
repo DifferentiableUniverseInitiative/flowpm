{
 "cells": [
  {
   "cell_type": "code",
   "execution_count": 1,
   "metadata": {},
   "outputs": [],
   "source": [
    "import numpy as np\n",
    "import tensorflow as tf\n",
    "import flowpm\n",
    "import tensorflow_probability as tfp"
   ]
  },
  {
   "cell_type": "code",
   "execution_count": 25,
   "metadata": {},
   "outputs": [],
   "source": [
    "cosmo={\"w0\":-1.0,\n",
    "       \"wa\":0.0,\n",
    "       \"H0\":100,\n",
    "       \"h\":0.6774,\n",
    "       \"Omega0_b\":0.04860,\n",
    "       \"Omega0_c\":0.2589,\n",
    "       \"Omega0_m\":0.3075,\n",
    "       \"Omega0_k\":0.0,\n",
    "       \"Omega0_de\":0.6925,\n",
    "       \"n_s\":0.9667,\n",
    "       \"sigma8\":0.8159}"
   ]
  },
  {
   "cell_type": "code",
   "execution_count": 26,
   "metadata": {},
   "outputs": [],
   "source": [
    "def fde(cosmo,a,epsilon=1e-5):\n",
    "    a=tf.convert_to_tensor(a,dtype=tf.float32)\n",
    "    w0=tf.convert_to_tensor(cosmo[\"w0\"],dtype=tf.float32)\n",
    "    wa=tf.convert_to_tensor(cosmo[\"wa\"],dtype=tf.float32)\n",
    "    return (-3.0*(1.0+w0)+\n",
    "            3.0*wa*((a-1.0)/tf.math.log(a-epsilon)-1.0))"
   ]
  },
  {
   "cell_type": "code",
   "execution_count": 27,
   "metadata": {},
   "outputs": [],
   "source": [
    "def w(cosmo,a):\n",
    "    a=tf.convert_to_tensor(a,dtype=tf.float32)\n",
    "    w0=tf.convert_to_tensor(cosmo[\"w0\"],dtype=tf.float32)\n",
    "    wa=tf.convert_to_tensor(cosmo[\"wa\"],dtype=tf.float32)\n",
    "    return w0+wa*(1.0-a)\n"
   ]
  },
  {
   "cell_type": "code",
   "execution_count": 28,
   "metadata": {},
   "outputs": [],
   "source": [
    "def E(cosmo,a):\n",
    "    a=tf.convert_to_tensor(a,dtype=tf.float32)\n",
    "    return(tf.math.sqrt(\n",
    "        cosmo[\"Omega0_m\"]/tf.math.pow(a, 3)\n",
    "        +cosmo[\"Omega0_k\"]/tf.math.pow(a, 2)\n",
    "        +cosmo[\"Omega0_de\"]*tf.math.pow(a, fde(cosmo,a))))"
   ]
  },
  {
   "cell_type": "code",
   "execution_count": 29,
   "metadata": {},
   "outputs": [],
   "source": [
    "def H(cosmo, a):\n",
    "    a=tf.convert_to_tensor(a,dtype=tf.float32)\n",
    "    return cosmo[\"H0\"]*cosmo[\"h\"] *(E(cosmo, a))"
   ]
  },
  {
   "cell_type": "code",
   "execution_count": 30,
   "metadata": {},
   "outputs": [],
   "source": [
    "def dfde(cosmo,a,epsilon=1e-5):\n",
    "    a=tf.convert_to_tensor(a,dtype=tf.float32)\n",
    "    wa=tf.convert_to_tensor(cosmo[\"wa\"],dtype=tf.float32)\n",
    "    return (3*wa*\n",
    "            (tf.math.log(a-epsilon)-(a-1)/(a-epsilon))\n",
    "            /tf.math.pow(tf.math.log(a-epsilon),2))"
   ]
  },
  {
   "cell_type": "code",
   "execution_count": 31,
   "metadata": {},
   "outputs": [],
   "source": [
    "def dEa(cosmo,a,epsilon=1e-5):\n",
    "    a=tf.convert_to_tensor(a,dtype=tf.float32)\n",
    "    return 0.5*(-3*cosmo[\"Omega0_m\"]/tf.math.pow(a, 4)-2*cosmo[\"Omega0_k\"]/tf.math.pow(a, 3)\n",
    "    +dfde(cosmo,a)*cosmo[\"Omega0_de\"]*tf.math.pow(a, fde(cosmo,a)))\n",
    "    \n"
   ]
  },
  {
   "cell_type": "code",
   "execution_count": 32,
   "metadata": {},
   "outputs": [],
   "source": [
    "def Omega_m_a(cosmo,a):\n",
    "    a=tf.convert_to_tensor(a,dtype=tf.float32)\n",
    "    return cosmo[\"Omega0_m\"]*tf.math.pow(a,-3)/E(cosmo,a)**2"
   ]
  },
  {
   "cell_type": "code",
   "execution_count": 33,
   "metadata": {},
   "outputs": [],
   "source": [
    "def Omega_de_a(cosmo,a):\n",
    "    a=tf.convert_to_tensor(a,dtype=tf.float32)\n",
    "    return cosmo[\"Omega0_de\"]*tf.math.pow(a,fde(cosmo,a))/E(cosmo,a)**2"
   ]
  },
  {
   "cell_type": "code",
   "execution_count": 34,
   "metadata": {},
   "outputs": [],
   "source": [
    "log10_amin=-3\n",
    "steps=128\n",
    "atab =np.logspace(log10_amin, 0.0, steps)\n",
    "y0=tf.constant([[atab[0], -3./7 * 0.001**2], [1.0, -6. / 7 *0.001]],dtype=tf.float32)"
   ]
  },
  {
   "cell_type": "code",
   "execution_count": 35,
   "metadata": {},
   "outputs": [],
   "source": [
    "#Equation 1.96 from Florent Leclercq thesis\n",
    "\n",
    "# @tf.function\n",
    "# def growth_func(a,y):\n",
    "#     y=tf.convert_to_tensor(y,dtype=tf.float32)\n",
    "#     a=tf.convert_to_tensor(a,dtype=tf.float32)\n",
    "#     d=y[0]\n",
    "#     d_f=y[1]\n",
    "#     dydt= d_f,1.5*Omega_m_a(cosmo,a)*d/tf.pow(a,2)-(d_f/a)*(Omega_de_a(cosmo,a)-0.5*Omega_m_a(cosmo,a)+2)\n",
    "#     return dydt     \n",
    "\n",
    "#Equation 1.96 from Florent Leclercq thesis\n",
    "@tf.function\n",
    "def growth_func(a,y):\n",
    "    y=tf.convert_to_tensor(y,dtype=tf.float32)\n",
    "    a=tf.convert_to_tensor(a,dtype=tf.float32)\n",
    "    d = y[0]\n",
    "    d_f = y[1]\n",
    "    # EXtracting d1 and derivative\n",
    "    d1 = d[0]\n",
    "    d1_f = d_f[0]\n",
    "    # Extractinct d2 and derivative\n",
    "    d2 = d[1]\n",
    "    d2_f = d_f[1]\n",
    "    # ODE for d1\n",
    "    dy1dt= d1_f,1.5*Omega_m_a(cosmo,a)*d1/tf.pow(a,2)-(d1_f/a)*(Omega_de_a(cosmo,a)-0.5*Omega_m_a(cosmo,a)+2)\n",
    "    # ODE for d2\n",
    "    dy2dt = d2_f,1.5*Omega_m_a(cosmo,a)*d2/tf.pow(a,2)-(d2_f/a)*(Omega_de_a(cosmo,a)-0.5*Omega_m_a(cosmo,a)+2)  - 1.5*Omega_m_a(cosmo,a)*d1**2/tf.pow(a,2)   \n",
    "    \n",
    "    # Concatenate output\n",
    "    dydt = [[dy1dt[0], dy2dt[0]], \n",
    "            [dy1dt[1], dy2dt[1]]]\n",
    "    return dydt"
   ]
  },
  {
   "cell_type": "code",
   "execution_count": 36,
   "metadata": {},
   "outputs": [],
   "source": [
    "@tf.function\n",
    "def odesolve_func(atab,y0):\n",
    "    solver=tfp.math.ode.BDF()\n",
    "    results = solver.solve(growth_func,atab[0], y0, solution_times=atab)\n",
    "    return results\n"
   ]
  },
  {
   "cell_type": "code",
   "execution_count": 37,
   "metadata": {},
   "outputs": [
    {
     "name": "stdout",
     "output_type": "stream",
     "text": [
      "WARNING:tensorflow:@custom_gradient grad_fn has 'variables' in signature, but no ResourceVariables were used on the forward pass.\n"
     ]
    },
    {
     "name": "stderr",
     "output_type": "stream",
     "text": [
      "WARNING:tensorflow:@custom_gradient grad_fn has 'variables' in signature, but no ResourceVariables were used on the forward pass.\n"
     ]
    }
   ],
   "source": [
    "results_func=odesolve_func(atab,y0)"
   ]
  },
  {
   "cell_type": "code",
   "execution_count": 44,
   "metadata": {},
   "outputs": [
    {
     "name": "stdout",
     "output_type": "stream",
     "text": [
      "Populating the interactive namespace from numpy and matplotlib\n"
     ]
    },
    {
     "data": {
      "text/plain": [
       "[<matplotlib.lines.Line2D at 0x7ffb6153fdf0>]"
      ]
     },
     "execution_count": 44,
     "metadata": {},
     "output_type": "execute_result"
    },
    {
     "data": {
      "image/png": "[encoded data removed]",
      "text/plain": [
       "<Figure size 432x288 with 1 Axes>"
      ]
     },
     "metadata": {
      "needs_background": "light"
     },
     "output_type": "display_data"
    }
   ],
   "source": [
    "%pylab inline\n",
    "plot(results_func.times,results_func.states[:,0,0]/results_func.states[-1,0,0])\n",
    "plot(results_func.times,results_func.states[:,0,1]/results_func.states[-1,0,1])\n",
    "#plot(results_func.times,results_func.states[:,0]/max(results_func.states[:,0]))\n",
    "#savefig(\"growt_function.png\",dpi=200)"
   ]
  },
  {
   "cell_type": "code",
   "execution_count": 16,
   "metadata": {},
   "outputs": [],
   "source": [
    "\n",
    "#comparison with background.py\n",
    "\n",
    "from flowpm.background import MatterDominated\n",
    "M_d=MatterDominated(Omega0_m=0.3075)"
   ]
  },
  {
   "cell_type": "code",
   "execution_count": 46,
   "metadata": {},
   "outputs": [
    {
     "data": {
      "text/plain": [
       "<matplotlib.legend.Legend at 0x7ffb8120cfd0>"
      ]
     },
     "execution_count": 46,
     "metadata": {},
     "output_type": "execute_result"
    },
    {
     "data": {
      "image/png": "[encoded data removed]",
      "text/plain": [
       "<Figure size 432x288 with 1 Axes>"
      ]
     },
     "metadata": {
      "needs_background": "light"
     },
     "output_type": "display_data"
    }
   ],
   "source": [
    "#comparison between background.py and growth_function  D1 plot\n",
    "plot(results_func.times,M_d.D1(results_func.times), label='background.py')\n",
    "plot(results_func.times,results_func.states[:,0,0]/results_func.states[-1,0,0],'--',label='Denise code')\n",
    "legend()"
   ]
  },
  {
   "cell_type": "code",
   "execution_count": 47,
   "metadata": {},
   "outputs": [
    {
     "data": {
      "text/plain": [
       "<matplotlib.legend.Legend at 0x7ffb6220b820>"
      ]
     },
     "execution_count": 47,
     "metadata": {},
     "output_type": "execute_result"
    },
    {
     "data": {
      "image/png": "[encoded data removed]",
      "text/plain": [
       "<Figure size 432x288 with 1 Axes>"
      ]
     },
     "metadata": {
      "needs_background": "light"
     },
     "output_type": "display_data"
    }
   ],
   "source": [
    "#comparison between background.py and growth_function D2 plot\n",
    "plot(results_func.times,M_d.D2(results_func.times), label='background.py')\n",
    "plot(results_func.times,results_func.states[:,0,1]/results_func.states[-1,0,1],'--',label='Denise code')\n",
    "legend()"
   ]
  },
  {
   "cell_type": "code",
   "execution_count": 49,
   "metadata": {},
   "outputs": [],
   "source": [
    "#comparison with jax_cosmo code\n",
    "from jax_cosmo.background import growth_factor\n",
    "from jax_cosmo.parameters import Planck15"
   ]
  },
  {
   "cell_type": "code",
   "execution_count": 50,
   "metadata": {},
   "outputs": [],
   "source": [
    "cosmo=Planck15()\n"
   ]
  },
  {
   "cell_type": "code",
   "execution_count": 52,
   "metadata": {},
   "outputs": [
    {
     "name": "stderr",
     "output_type": "stream",
     "text": [
      "/Users/dl264294/.local/lib/python3.8/site-packages/jax/_src/lax/lax.py:6081: UserWarning: Explicitly requested dtype <class 'jax._src.numpy.lax_numpy.int64'> requested in astype is not available, and will be truncated to dtype int32. To enable more dtypes, set the jax_enable_x64 configuration option or the JAX_ENABLE_X64 shell environment variable. See https://github.com/google/jax#current-gotchas for more.\n",
      "  warnings.warn(msg.format(dtype, fun_name , truncated_dtype))\n",
      "/Users/dl264294/.local/lib/python3.8/site-packages/jax/_src/lax/lax.py:6081: UserWarning: Explicitly requested dtype <class 'jax._src.numpy.lax_numpy.int64'> requested in astype is not available, and will be truncated to dtype int32. To enable more dtypes, set the jax_enable_x64 configuration option or the JAX_ENABLE_X64 shell environment variable. See https://github.com/google/jax#current-gotchas for more.\n",
      "  warnings.warn(msg.format(dtype, fun_name , truncated_dtype))\n"
     ]
    },
    {
     "data": {
      "text/plain": [
       "<matplotlib.legend.Legend at 0x7ffb80e76a60>"
      ]
     },
     "execution_count": 52,
     "metadata": {},
     "output_type": "execute_result"
    },
    {
     "data": {
      "image/png": "[encoded data removed]",
      "text/plain": [
       "<Figure size 432x288 with 1 Axes>"
      ]
     },
     "metadata": {
      "needs_background": "light"
     },
     "output_type": "display_data"
    }
   ],
   "source": [
    "plot(atab,growth_factor(cosmo, atab))\n",
    "plot(results_func.times,growth_factor(cosmo, atab), label='jax_cosmo.py')\n",
    "plot(results_func.times,results_func.states[:,0,0]/results_func.states[-1,0,0],'--',label='Denise code')\n",
    "legend()"
   ]
  },
  {
   "cell_type": "code",
   "execution_count": null,
   "metadata": {},
   "outputs": [],
   "source": []
  }
 ],
 "metadata": {
  "kernelspec": {
   "display_name": "Python 3",
   "language": "python",
   "name": "python3"
  },
  "language_info": {
   "codemirror_mode": {
    "name": "ipython",
    "version": 3
   },
   "file_extension": ".py",
   "mimetype": "text/x-python",
   "name": "python",
   "nbconvert_exporter": "python",
   "pygments_lexer": "ipython3",
   "version": "3.8.3"
  }
 },
 "nbformat": 4,
 "nbformat_minor": 4
}
