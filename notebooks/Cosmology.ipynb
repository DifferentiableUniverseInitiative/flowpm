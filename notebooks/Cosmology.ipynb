{
 "cells": [
  {
   "cell_type": "markdown",
   "metadata": {},
   "source": [
    "# Testing Cosmological Computations \n",
    "\n",
    "This notebook illustrates the various background cosmology and power spectrum tools embedded in flowpm."
   ]
  },
  {
   "cell_type": "code",
   "execution_count": 92,
   "metadata": {},
   "outputs": [
    {
     "name": "stdout",
     "output_type": "stream",
     "text": [
      "Populating the interactive namespace from numpy and matplotlib\n",
      "The autoreload extension is already loaded. To reload it, use:\n",
      "  %reload_ext autoreload\n"
     ]
    },
    {
     "name": "stderr",
     "output_type": "stream",
     "text": [
      "/usr/lib/python3.8/site-packages/IPython/core/magics/pylab.py:159: UserWarning: pylab import has clobbered these variables: ['power']\n",
      "`%matplotlib` prevents importing * from pylab and numpy\n",
      "  warn(\"pylab import has clobbered these variables: %s\"  % clobbered +\n"
     ]
    }
   ],
   "source": [
    "%pylab inline\n",
    "%load_ext autoreload\n",
    "%autoreload 2\n",
    "\n",
    "import tensorflow as tf\n",
    "import flowpm.tfbackground as bkgrd\n",
    "import flowpm.tfpower as power\n",
    "# Importing CCL as a reference\n",
    "import pyccl as ccl"
   ]
  },
  {
   "cell_type": "code",
   "execution_count": 93,
   "metadata": {},
   "outputs": [],
   "source": [
    "# Create a cosmology dictionary\n",
    "# Plank 15 cosmology\n",
    "cosmo={\"w0\":-1.0,\n",
    "       \"wa\":0.0,\n",
    "       \"H0\":100,\n",
    "       \"h\":0.6774,\n",
    "       \"Omega0_b\":0.04860,\n",
    "       \"Omega0_c\":0.2589,\n",
    "       \"Omega0_m\":0.3075,\n",
    "       \"Omega0_k\":0.0,\n",
    "       \"Omega0_de\":0.6925,\n",
    "       \"n_s\":0.9667,\n",
    "       \"sigma8\":0.8159}\n",
    "\n",
    "cosmo_ccl = ccl.Cosmology(\n",
    "        Omega_c=0.2589,\n",
    "        Omega_b=0.0486,\n",
    "        h=0.6774,\n",
    "        sigma8=0.8159,\n",
    "        n_s=0.9667,\n",
    "        Neff=0,\n",
    "        transfer_function=\"eisenstein_hu\",\n",
    "        matter_power_spectrum=\"linear\",\n",
    "    )"
   ]
  },
  {
   "cell_type": "code",
   "execution_count": 94,
   "metadata": {},
   "outputs": [],
   "source": [
    "# Compute power spectrum with EH\n",
    "k = np.logspace(-3,1)\n",
    "\n",
    "pk = power.linear_matter_power(cosmo, k/ cosmo['h'], a=1, \n",
    "                               type='eisenhu_osc')/ cosmo['h'] ** 3\n",
    "pk_ccl = ccl.linear_matter_power(cosmo_ccl, k, 1)"
   ]
  },
  {
   "cell_type": "code",
   "execution_count": 97,
   "metadata": {},
   "outputs": [
    {
     "data": {
      "text/plain": [
       "Text(0, 0.5, 'Pk')"
      ]
     },
     "execution_count": 97,
     "metadata": {},
     "output_type": "execute_result"
    },
    {
     "data": {
      "image/png": "[encoded data removed]",
      "text/plain": [
       "<Figure size 432x288 with 1 Axes>"
      ]
     },
     "metadata": {
      "needs_background": "light"
     },
     "output_type": "display_data"
    }
   ],
   "source": [
    "loglog(k, pk, label='flowpm EH')\n",
    "loglog(k, pk_ccl, '-.', label='CCL EH')\n",
    "legend()\n",
    "xlabel('k')\n",
    "ylabel('Pk')"
   ]
  },
  {
   "cell_type": "code",
   "execution_count": null,
   "metadata": {},
   "outputs": [],
   "source": []
  }
 ],
 "metadata": {
  "kernelspec": {
   "display_name": "Python 3",
   "language": "python",
   "name": "python3"
  },
  "language_info": {
   "codemirror_mode": {
    "name": "ipython",
    "version": 3
   },
   "file_extension": ".py",
   "mimetype": "text/x-python",
   "name": "python",
   "nbconvert_exporter": "python",
   "pygments_lexer": "ipython3",
   "version": "3.8.6"
  }
 },
 "nbformat": 4,
 "nbformat_minor": 4
}
