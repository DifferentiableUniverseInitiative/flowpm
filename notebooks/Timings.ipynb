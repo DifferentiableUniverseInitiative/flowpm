{
 "cells": [
  {
   "cell_type": "code",
   "execution_count": 3,
   "metadata": {},
   "outputs": [
    {
     "name": "stdout",
     "output_type": "stream",
     "text": [
      "Populating the interactive namespace from numpy and matplotlib\n"
     ]
    }
   ],
   "source": [
    "%pylab inline"
   ]
  },
  {
   "cell_type": "code",
   "execution_count": 173,
   "metadata": {},
   "outputs": [],
   "source": [
    "fpath = '/global/homes/c/chmodi/Programs/flowpm-ffts/scripts/timelogs'\n",
    "\n",
    "lines = []\n",
    "with open(fpath + '/alltimes') as ff:\n",
    "    lines.append(ff.readlines())\n",
    "\n",
    "lines=lines[0]"
   ]
  },
  {
   "cell_type": "code",
   "execution_count": 174,
   "metadata": {},
   "outputs": [
    {
     "name": "stdout",
     "output_type": "stream",
     "text": [
      "log_1024-b11-b216:Time for  Shape[b1=1, b2=16]  is :  2.8204840207099915\n",
      "\n"
     ]
    }
   ],
   "source": [
    "ll = lines[0]\n",
    "print(ll)\n",
    "\n",
    "bss = []\n",
    "for ll in lines:\n",
    "    bss.append(int(ll.split('log_')[1].split('-')[0]))\n",
    "times = []\n",
    "for ll in lines:\n",
    "    times.append(float(ll.split(':')[2]))\n",
    "\n",
    "mesh = []\n",
    "for ll in lines:\n",
    "    b1, b2 = int(ll.split('b1=')[1].split(',')[0]), int(ll.split('b2=')[1].split(']')[0])\n",
    "    mesh.append([b1, b2, b1*b2])\n",
    "mesh = np.array(mesh)"
   ]
  },
  {
   "cell_type": "code",
   "execution_count": 175,
   "metadata": {},
   "outputs": [],
   "source": [
    "mesh;"
   ]
  },
  {
   "cell_type": "code",
   "execution_count": 179,
   "metadata": {},
   "outputs": [
    {
     "data": {
      "image/png": "[encoded data removed]",
      "text/plain": [
       "<Figure size 1080x216 with 5 Axes>"
      ]
     },
     "metadata": {
      "needs_background": "light"
     },
     "output_type": "display_data"
    }
   ],
   "source": [
    "mss = ['o', 's', '<', '>', '*', 'v']\n",
    "\n",
    "fig, ax = plt.subplots(1, 5, figsize=(15, 3))\n",
    "nc = 1024\n",
    "for inc, nc in enumerate([128, 256, 512, 1024, 2048]):\n",
    "    \n",
    "    for i in range(len(lines)):\n",
    "        if bss[i] == nc:\n",
    "            ilog = int(np.log2(mesh[i][0]))\n",
    "    #         plt.scatter(mesh[i][-1], times[i], marker=mss[ilog])\n",
    "            ax[inc].plot(mesh[i][-1], times[i], mss[ilog], color='C%d'%ilog, ms=7, alpha=0.5)\n",
    "            if mesh[i][-1] == 32: ax[inc].plot(mesh[i][-1], times[i], mss[ilog], color='C%d'%ilog, label=2**ilog)\n",
    "            elif mesh[i][-1] == 16 and ilog==0: ax[inc].plot(mesh[i][-1], times[i], mss[ilog], color='C%d'%ilog, label=2**ilog)\n",
    "    ax[inc].set_xscale('log', basex=2)\n",
    "    ax[inc].legend()\n",
    "    ax[inc].set_title(nc)"
   ]
  },
  {
   "cell_type": "code",
   "execution_count": 165,
   "metadata": {},
   "outputs": [
    {
     "data": {
      "text/plain": [
       "9.0"
      ]
     },
     "execution_count": 165,
     "metadata": {},
     "output_type": "execute_result"
    }
   ],
   "source": [
    "100//np.log2(2048)"
   ]
  },
  {
   "cell_type": "code",
   "execution_count": 156,
   "metadata": {},
   "outputs": [
    {
     "name": "stdout",
     "output_type": "stream",
     "text": [
      "128 1 32 32\n",
      "128 16 2 32\n",
      "128 2 16 32\n",
      "128 4 8 32\n",
      "128 8 4 32\n",
      "256 4 8 32\n",
      "256 16 2 32\n",
      "256 2 16 32\n",
      "256 32 1 32\n",
      "256 4 8 32\n",
      "256 8 4 32\n",
      "512 4 8 32\n",
      "512 16 2 32\n",
      "512 2 16 32\n",
      "512 32 1 32\n",
      "1024 4 8 32\n",
      "1024 16 2 32\n",
      "1024 2 16 32\n",
      "1024 32 1 32\n",
      "1024 8 4 32\n"
     ]
    }
   ],
   "source": [
    "mss = ['o', 's', '<', '>', '*', 'v']\n",
    "\n",
    "for inc, nc in enumerate([128, 256, 512, 1024]):\n",
    "    \n",
    "    for i in range(len(lines)):\n",
    "        if bss[i] == nc and mesh[i][-1] == 32:\n",
    "            print(nc, mesh[i][0], mesh[i][1], mesh[i][2])\n",
    "            "
   ]
  },
  {
   "cell_type": "code",
   "execution_count": 157,
   "metadata": {},
   "outputs": [
    {
     "name": "stdout",
     "output_type": "stream",
     "text": [
      "256 4 8 32\n",
      "log_256-b114-b28:Time for  Shape[b1=4, b2=8]  is :  0.0812404465675354\n",
      "\n",
      "256 16 2 32\n",
      "log_256-b116-b22:Time for  Shape[b1=16, b2=2]  is :  0.16548025369644165\n",
      "\n",
      "256 2 16 32\n",
      "log_256-b12-b216:Time for  Shape[b1=2, b2=16]  is :  0.13581803560256958\n",
      "\n",
      "256 32 1 32\n",
      "log_256-b132-b21:Time for  Shape[b1=32, b2=1]  is :  0.15419225931167602\n",
      "\n",
      "256 4 8 32\n",
      "log_256-b14-b28:Time for  Shape[b1=4, b2=8]  is :  0.07576417207717895\n",
      "\n",
      "256 8 4 32\n",
      "log_256-b18-b24:Time for  Shape[b1=8, b2=4]  is :  0.07137725353240967\n",
      "\n"
     ]
    }
   ],
   "source": [
    "mss = ['o', 's', '<', '>', '*', 'v']\n",
    "\n",
    "for inc, nc in enumerate([256]):\n",
    "    \n",
    "    for i in range(len(lines)):\n",
    "        if bss[i] == nc and mesh[i][-1] == 32:\n",
    "            print(nc, mesh[i][0], mesh[i][1], mesh[i][2])\n",
    "            print(lines[i])\n",
    "            "
   ]
  },
  {
   "cell_type": "code",
   "execution_count": 58,
   "metadata": {},
   "outputs": [
    {
     "data": {
      "text/plain": [
       "3.0"
      ]
     },
     "execution_count": 58,
     "metadata": {},
     "output_type": "execute_result"
    }
   ],
   "source": [
    "np.log2(8, 2)"
   ]
  }
 ],
 "metadata": {
  "kernelspec": {
   "display_name": "fastpm",
   "language": "python",
   "name": "fastpm"
  },
  "language_info": {
   "codemirror_mode": {
    "name": "ipython",
    "version": 3
   },
   "file_extension": ".py",
   "mimetype": "text/x-python",
   "name": "python",
   "nbconvert_exporter": "python",
   "pygments_lexer": "ipython3",
   "version": "3.6.8"
  }
 },
 "nbformat": 4,
 "nbformat_minor": 4
}
