{
 "cells": [
  {
   "cell_type": "markdown",
   "metadata": {},
   "source": [
    "<a href=\"https://colab.research.google.com/github/modichirag/flowpm/blob/lensing/notebooks/Denise_lightcone.ipynb\" target=\"_parent\"><img src=\"https://colab.research.google.com/assets/colab-badge.svg\" alt=\"Open In Colab\"/></a>"
   ]
  },
  {
   "cell_type": "code",
   "execution_count": 1,
   "metadata": {},
   "outputs": [
    {
     "name": "stdout",
     "output_type": "stream",
     "text": [
      "Populating the interactive namespace from numpy and matplotlib\n"
     ]
    }
   ],
   "source": [
    "%pylab inline \n",
    "%load_ext autoreload\n",
    "%autoreload 2\n",
    "import tensorflow as tf\n",
    "import numpy as np\n",
    "from scipy.interpolate import InterpolatedUnivariateSpline as iuspline\n",
    "from flowpm.tfpower import linear_matter_power\n",
    "from flowpm.tfbackground import cosmo,z2a,a2z,afactor, chifactor,rad_comoving_distance\n",
    "from flowpm.raytracing import  lightcone, Born, wlen, cons, A, nbar_\n",
    "import flowpm.constants as constants\n",
    "from flowpm.angular_power import radial_profile, measure_power_spectrum, pixel_size\n",
    "from flowpm.angular_power_tf import measure_power_spectrum_tf\n",
    "#from flowpm.spectrum_for_cosmology import power_spectrum_for_cosmology\n",
    "import flowpm  \n",
    "import time\n",
    "start_time = time.time()"
   ]
  },
  {
   "cell_type": "code",
   "execution_count": null,
   "metadata": {},
   "outputs": [],
   "source": [
    "# You may need to adapt this path depending on where you are running the notebook\n",
    "#This is the power spectrum of initial conditions\n",
    "klin = np.loadtxt('/Users/dl264294/Desktop/github/flowpm/flowpm/data/Planck15_a1p00.txt').T[0]\n",
    "plin=linear_matter_power(cosmo, klin)\n",
    "ipklin = iuspline(klin, plin)"
   ]
  },
  {
   "cell_type": "code",
   "execution_count": 2,
   "metadata": {},
   "outputs": [],
   "source": [
    "nc=[64,64,640]   # size of the cube, number of cells\n",
    "nc_xy=64                    # number of pixel for x and  y \n",
    "Boxsize=[200,200,2000]          # Physical size of the cube"
   ]
  },
  {
   "cell_type": "code",
   "execution_count": 3,
   "metadata": {},
   "outputs": [
    {
     "name": "stdout",
     "output_type": "stream",
     "text": [
      "WARNING:tensorflow:@custom_gradient grad_fn has 'variables' in signature, but no ResourceVariables were used on the forward pass.\n"
     ]
    }
   ],
   "source": [
    "#To make lens planes of size 200 Mpc/h :\n",
    "r = np.linspace(0,2000,10, endpoint=True)\n",
    "a = afactor(r)  "
   ]
  },
  {
   "cell_type": "code",
   "execution_count": null,
   "metadata": {},
   "outputs": [],
   "source": [
    "# This allows us to go to roughly z=1\n",
    "plot(r,a2z(a), '+')\n",
    "ylabel(r'z')\n",
    "xlabel(r'Mpc/h')"
   ]
  },
  {
   "cell_type": "code",
   "execution_count": null,
   "metadata": {},
   "outputs": [],
   "source": []
  },
  {
   "cell_type": "code",
   "execution_count": null,
   "metadata": {},
   "outputs": [],
   "source": [
    "# We will first run the simulation to the lowest scaler factor entering the lightcone\n",
    "init_stages = np.linspace(0.1, a[-1], 4, endpoint=True)\n",
    "initial_conditions = flowpm.linear_field(nc,    \n",
    "                                        Boxsize, \n",
    "                                         ipklin,         \n",
    "                                         batch_size=1)\n",
    "\n",
    "# Sample particles\n",
    "state = flowpm.lpt_init(initial_conditions, 0.1)   \n",
    "# Evolve particles down to z=0\n",
    "med_state = flowpm.nbody(state, init_stages, nc)         \n",
    "# Retrieve final density field\n",
    "med_field = flowpm.cic_paint(tf.zeros_like(initial_conditions), med_state[0])"
   ]
  },
  {
   "cell_type": "code",
   "execution_count": null,
   "metadata": {},
   "outputs": [],
   "source": [
    "# At this stage we are at the right edge of the lightcone\n",
    "figure(figsize=[20,5])\n",
    "imshow(tf.reshape(med_field, nc).numpy().sum(axis=0))"
   ]
  },
  {
   "cell_type": "code",
   "execution_count": null,
   "metadata": {},
   "outputs": [],
   "source": [
    "final_state, lps_a, lps = lightcone(med_state, a[::-1], \n",
    "                                  nc, \n",
    "                                    5.*60/nc_xy, nc_xy,cosmo)\n",
    "\n",
    "\n"
   ]
  },
  {
   "cell_type": "code",
   "execution_count": null,
   "metadata": {},
   "outputs": [],
   "source": [
    "#Let's define the source's redshift\n",
    "#zs=0.7755102040816326\n",
    "a_s=z2a(1.00)\n",
    "ds=chifactor(a_s)"
   ]
  },
  {
   "cell_type": "code",
   "execution_count": null,
   "metadata": {
    "scrolled": true
   },
   "outputs": [],
   "source": [
    "#Retrieve final density field\n",
    "final_field = flowpm.cic_paint(tf.zeros_like(initial_conditions), final_state[0])\n",
    "\n",
    "# And this is what remains of the simulation at redhift=0 \n",
    "figure(figsize=[20,5])\n",
    "imshow(tf.reshape(final_field, [nc_xy,nc_xy,-1]).numpy().sum(axis=0)) "
   ]
  },
  {
   "cell_type": "code",
   "execution_count": null,
   "metadata": {},
   "outputs": [],
   "source": [
    "# Here are the lens planes exported during the simulation\n",
    "figure(figsize=(20,5))\n",
    "for i in range(len(lps_a)):\n",
    "    subplot(1,9,i+1)\n",
    "    imshow(lps[i][0]);\n",
    "    title('z = %0.2f'%a2z(lps_a[i]))\n"
   ]
  },
  {
   "cell_type": "code",
   "execution_count": null,
   "metadata": {},
   "outputs": [],
   "source": [
    "final_state.shape   # tensor of shape (3, batch_size, npart, 3)"
   ]
  },
  {
   "cell_type": "code",
   "execution_count": null,
   "metadata": {},
   "outputs": [],
   "source": [
    "k_map=Born(lps_a,lps,ds,nc,Boxsize,nc_xy,5.,cosmo)"
   ]
  },
  {
   "cell_type": "code",
   "execution_count": null,
   "metadata": {},
   "outputs": [],
   "source": [
    "# from astropy.io import fits\n",
    "# hdu = fits.PrimaryHDU(k_map)\n",
    "# hdul = fits.HDUList([hdu])\n",
    "# hdul.writeto(('.fits')"
   ]
  },
  {
   "cell_type": "code",
   "execution_count": null,
   "metadata": {
    "scrolled": true
   },
   "outputs": [],
   "source": [
    "time.time() - start_time"
   ]
  },
  {
   "cell_type": "code",
   "execution_count": null,
   "metadata": {
    "scrolled": true
   },
   "outputs": [],
   "source": [
    "imshow(k_map)\n",
    "colorbar()\n",
    "#savefig('kmap_denise_z1.png',dpi=100)\n"
   ]
  },
  {
   "cell_type": "code",
   "execution_count": null,
   "metadata": {},
   "outputs": [],
   "source": [
    "#begin the computation of power spectrum from the map"
   ]
  },
  {
   "cell_type": "code",
   "execution_count": null,
   "metadata": {},
   "outputs": [],
   "source": [
    "#ell = 2. * np.pi * k / pixel_size / 512\n",
    "ell1, ps_example1 = measure_power_spectrum(k_map,5.,64)\n",
    "ell2, ps_example2 = measure_power_spectrum_tf(tf.cast(k_map,dtype=tf.complex64),5.,64)\n"
   ]
  },
  {
   "cell_type": "code",
   "execution_count": null,
   "metadata": {},
   "outputs": [],
   "source": [
    "loglog(ell1, ps_example1, label='kappaTNG map')\n",
    "loglog(ell2, ps_example2, label='kappaTNG map')\n",
    "xlabel('$\\ell$')\n",
    "ylabel('Ps')\n",
    "legend()"
   ]
  },
  {
   "cell_type": "code",
   "execution_count": null,
   "metadata": {},
   "outputs": [],
   "source": [
    "#begin computation power spectra from theory "
   ]
  },
  {
   "cell_type": "code",
   "execution_count": null,
   "metadata": {},
   "outputs": [],
   "source": [
    "import jax\n",
    "import jax_cosmo as jc"
   ]
  },
  {
   "cell_type": "code",
   "execution_count": null,
   "metadata": {},
   "outputs": [],
   "source": [
    "z = linspace(0,2,100)\n",
    "pz = zeros_like(z)\n",
    "pz[50] =1. \n",
    "nzs_s=jc.redshift.kde_nz(z, pz, bw=0.05)\n",
    "# let's draw the nz on a new array of redshifts\n",
    "zsamp = np.linspace(0,2,128)\n",
    "plot(zsamp, nzs_s(zsamp))"
   ]
  },
  {
   "cell_type": "code",
   "execution_count": null,
   "metadata": {},
   "outputs": [],
   "source": [
    "nzs = [nzs_s]"
   ]
  },
  {
   "cell_type": "code",
   "execution_count": null,
   "metadata": {},
   "outputs": [],
   "source": [
    "probes = [ jc.probes.WeakLensing(nzs, sigma_e=0.26) ]"
   ]
  },
  {
   "cell_type": "code",
   "execution_count": null,
   "metadata": {},
   "outputs": [],
   "source": [
    "elle = np.logspace(1,4) # Defines a range of \\ell\n",
    "cosmo_jc = jc.Planck15()\n",
    "# And compute the data vector\n",
    "cls = jc.angular_cl.angular_cl(cosmo_jc, elle, probes)"
   ]
  },
  {
   "cell_type": "code",
   "execution_count": null,
   "metadata": {},
   "outputs": [],
   "source": [
    "\n",
    "%pylab inline \n",
    "loglog(elle, cls[0])\n",
    "ylabel(r'$C_\\ell$')\n",
    "xlabel(r'$\\ell$');\n",
    "title(r'Angular $C_\\ell$');"
   ]
  },
  {
   "cell_type": "code",
   "execution_count": null,
   "metadata": {
    "scrolled": true
   },
   "outputs": [],
   "source": [
    "loglog(elle, cls[0],label='T. Power Spectrum')\n",
    "#loglog(ell1, ps_example1, label='kappa map')\n",
    "ylabel(r'$C_\\ell$')\n",
    "xlabel(r'$\\ell$')\n",
    "#xlim(10,10000)\n",
    "legend()\n",
    "title('nc=128c')\n",
    "#savefig('power_con128_z=0.99.png',dpi=80)"
   ]
  },
  {
   "cell_type": "code",
   "execution_count": null,
   "metadata": {},
   "outputs": [],
   "source": [
    "print(\"--- %d seconds ---(%d minutes)\" % ((time.time() - start_time),(time.time() - start_time)/60.))"
   ]
  },
  {
   "cell_type": "code",
   "execution_count": null,
   "metadata": {},
   "outputs": [],
   "source": [
    "%pylab inline \n",
    "loglog(ell, power_spectrum)\n",
    "#loglog(elle, cls[0],label='T. Power Spectrum')\n",
    "#loglog(ell1, ps_example1, label='kappa map')\n",
    "ylabel(r'$C_\\ell$')\n",
    "xlabel(r'$\\ell$');\n",
    "title(r'Angular $C_\\ell$')"
   ]
  },
  {
   "cell_type": "code",
   "execution_count": null,
   "metadata": {},
   "outputs": [],
   "source": [
    "loglog(ell1, ps_example1, label='kappaTNG map')\n",
    "loglog(ell2, ps_example2, label='kappaTNG map')\n",
    "loglog(ell3, power_spectrum3, label='kappaTNG map')\n",
    "xlabel('$\\ell$')\n",
    "ylabel('Ps')\n",
    "legend()"
   ]
  },
  {
   "cell_type": "code",
   "execution_count": null,
   "metadata": {},
   "outputs": [],
   "source": []
  }
 ],
 "metadata": {
  "kernelspec": {
   "display_name": "Python 3",
   "language": "python",
   "name": "python3"
  },
  "language_info": {
   "codemirror_mode": {
    "name": "ipython",
    "version": 3
   },
   "file_extension": ".py",
   "mimetype": "text/x-python",
   "name": "python",
   "nbconvert_exporter": "python",
   "pygments_lexer": "ipython3",
   "version": "3.8.5"
  }
 },
 "nbformat": 4,
 "nbformat_minor": 4
}
