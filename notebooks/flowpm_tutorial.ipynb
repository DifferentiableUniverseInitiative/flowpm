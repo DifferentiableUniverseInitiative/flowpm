{
  "nbformat": 4,
  "nbformat_minor": 0,
  "metadata": {
    "accelerator": "GPU",
    "colab": {
      "name": "flowpm_tutorial.ipynb",
      "provenance": [],
      "include_colab_link": true
    },
    "kernelspec": {
      "display_name": "Python 3",
      "language": "python",
      "name": "python3"
    },
    "language_info": {
      "codemirror_mode": {
        "name": "ipython",
        "version": 3
      },
      "file_extension": ".py",
      "mimetype": "text/x-python",
      "name": "python",
      "nbconvert_exporter": "python",
      "pygments_lexer": "ipython3",
      "version": "3.8.2"
    }
  },
  "cells": [
    {
      "cell_type": "markdown",
      "metadata": {
        "id": "view-in-github",
        "colab_type": "text"
      },
      "source": [
        "<a href=\"https://colab.research.google.com/github/modichirag/flowpm/blob/master/notebooks/flowpm_tutorial.ipynb\" target=\"_parent\"><img src=\"https://colab.research.google.com/assets/colab-badge.svg\" alt=\"Open In Colab\"/></a>"
      ]
    },
    {
      "cell_type": "code",
      "metadata": {
        "id": "tPwoM8pjKJxw"
      },
      "source": [
        "# Run this if you are on colab\n",
        "!pip install git+https://github.com/modichirag/flowpm.git\n",
        "!git clone https://github.com/modichirag/flowpm.git "
      ],
      "execution_count": null,
      "outputs": []
    },
    {
      "cell_type": "code",
      "metadata": {
        "id": "XhHQnX9cbGGZ",
        "outputId": "49ad2714-78db-4fb0-ee1b-5a9327c4e513",
        "colab": {
          "base_uri": "https://localhost:8080/"
        }
      },
      "source": [
        "%pylab inline\n",
        "import tensorflow as tf\n",
        "import numpy as np\n",
        "from scipy.interpolate import InterpolatedUnivariateSpline as iuspline\n",
        "\n",
        "# You may need to adapt this path depending on where you are running the notebook\n",
        "# This is the power spectrum of initial conditions\n",
        "klin = np.loadtxt('flowpm/flowpm/data/Planck15_a1p00.txt').T[0]\n",
        "plin = np.loadtxt('flowpm/flowpm/data/Planck15_a1p00.txt').T[1]\n",
        "\n",
        "ipklin = iuspline(klin, plin)"
      ],
      "execution_count": 2,
      "outputs": [
        {
          "output_type": "stream",
          "text": [
            "Populating the interactive namespace from numpy and matplotlib\n"
          ],
          "name": "stdout"
        }
      ]
    },
    {
      "cell_type": "code",
      "metadata": {
        "id": "t5C12OPAO0GU"
      },
      "source": [
        "import flowpm\n",
        "\n",
        "stages = np.linspace(0.1, 1.0, 10, endpoint=True)\n",
        "\n",
        "initial_conditions = flowpm.linear_field(32,          # size of the cube\n",
        "                                         100,         # Physical size of the cube\n",
        "                                         ipklin,      # Initial powerspectrum\n",
        "                                         batch_size=16)\n",
        "\n",
        "# Sample particles\n",
        "state = flowpm.lpt_init(initial_conditions, a0=0.1)   \n",
        "\n",
        "# Evolve particles down to z=0\n",
        "final_state = flowpm.nbody(state, stages, 32)         \n",
        "\n",
        "# Retrieve final density field\n",
        "final_field = flowpm.cic_paint(tf.zeros_like(initial_conditions), final_state[0])"
      ],
      "execution_count": 3,
      "outputs": []
    },
    {
      "cell_type": "code",
      "metadata": {
        "colab": {
          "base_uri": "https://localhost:8080/",
          "height": 283
        },
        "id": "mAaXAOlrQJFm",
        "outputId": "cba6812f-43be-4272-ac07-e010a7ee49a2"
      },
      "source": [
        "imshow(final_field[0].numpy().sum(axis=0))"
      ],
      "execution_count": 4,
      "outputs": [
        {
          "output_type": "execute_result",
          "data": {
            "text/plain": [
              "<matplotlib.image.AxesImage at 0x7ff1f204f748>"
            ]
          },
          "metadata": {
            "tags": []
          },
          "execution_count": 4
        },
        {
          "output_type": "display_data",
          "data": {
            "image/png": "[encoded data removed]",
            "text/plain": [
              "<Figure size 432x288 with 1 Axes>"
            ]
          },
          "metadata": {
            "tags": [],
            "needs_background": "light"
          }
        }
      ]
    },
    {
      "cell_type": "code",
      "metadata": {
        "id": "Kjgs6YBnbGGa"
      },
      "source": [
        ""
      ],
      "execution_count": null,
      "outputs": []
    }
  ]
}