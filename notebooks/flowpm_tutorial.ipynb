{
  "nbformat": 4,
  "nbformat_minor": 0,
  "metadata": {
    "colab": {
      "name": "flowpm_tutorial.ipynb",
      "provenance": [],
      "include_colab_link": true
    },
    "kernelspec": {
      "name": "python3",
      "display_name": "Python 3"
    },
    "accelerator": "GPU"
  },
  "cells": [
    {
      "cell_type": "markdown",
      "metadata": {
        "id": "view-in-github",
        "colab_type": "text"
      },
      "source": [
        "<a href=\"https://colab.research.google.com/github/modichirag/flowpm/blob/notebooks/flowpm_tutorial.ipynb\" target=\"_parent\"><img src=\"https://colab.research.google.com/assets/colab-badge.svg\" alt=\"Open In Colab\"/></a>"
      ]
    },
    {
      "cell_type": "code",
      "metadata": {
        "id": "tPwoM8pjKJxw",
        "colab_type": "code",
        "colab": {
          "base_uri": "https://localhost:8080/",
          "height": 647
        },
        "outputId": "920e8487-cf5e-4681-cceb-8acaf2c62a96"
      },
      "source": [
        "!pip install git+https://github.com/modichirag/flowpm.git\n",
        "!git clone https://github.com/modichirag/flowpm.git "
      ],
      "execution_count": 1,
      "outputs": [
        {
          "output_type": "stream",
          "text": [
            "Collecting git+https://github.com/modichirag/flowpm.git@u/EiffL/ops\n",
            "  Cloning https://github.com/modichirag/flowpm.git (to revision u/EiffL/ops) to /tmp/pip-req-build-xuyztc8y\n",
            "  Running command git clone -q https://github.com/modichirag/flowpm.git /tmp/pip-req-build-xuyztc8y\n",
            "  Running command git checkout -b u/EiffL/ops --track origin/u/EiffL/ops\n",
            "  Switched to a new branch 'u/EiffL/ops'\n",
            "  Branch 'u/EiffL/ops' set up to track remote branch 'u/EiffL/ops' from 'origin'.\n",
            "Requirement already satisfied: astropy in /usr/local/lib/python3.6/dist-packages (from flowpm==0.1) (3.0.5)\n",
            "Requirement already satisfied: scipy in /usr/local/lib/python3.6/dist-packages (from flowpm==0.1) (1.3.1)\n",
            "Requirement already satisfied: tensorflow in /usr/local/lib/python3.6/dist-packages (from flowpm==0.1) (1.14.0)\n",
            "Requirement already satisfied: numpy>=1.10.0 in /usr/local/lib/python3.6/dist-packages (from astropy->flowpm==0.1) (1.16.5)\n",
            "Requirement already satisfied: protobuf>=3.6.1 in /usr/local/lib/python3.6/dist-packages (from tensorflow->flowpm==0.1) (3.7.1)\n",
            "Requirement already satisfied: tensorboard<1.15.0,>=1.14.0 in /usr/local/lib/python3.6/dist-packages (from tensorflow->flowpm==0.1) (1.14.0)\n",
            "Requirement already satisfied: keras-applications>=1.0.6 in /usr/local/lib/python3.6/dist-packages (from tensorflow->flowpm==0.1) (1.0.8)\n",
            "Requirement already satisfied: gast>=0.2.0 in /usr/local/lib/python3.6/dist-packages (from tensorflow->flowpm==0.1) (0.2.2)\n",
            "Requirement already satisfied: termcolor>=1.1.0 in /usr/local/lib/python3.6/dist-packages (from tensorflow->flowpm==0.1) (1.1.0)\n",
            "Requirement already satisfied: keras-preprocessing>=1.0.5 in /usr/local/lib/python3.6/dist-packages (from tensorflow->flowpm==0.1) (1.1.0)\n",
            "Requirement already satisfied: grpcio>=1.8.6 in /usr/local/lib/python3.6/dist-packages (from tensorflow->flowpm==0.1) (1.15.0)\n",
            "Requirement already satisfied: six>=1.10.0 in /usr/local/lib/python3.6/dist-packages (from tensorflow->flowpm==0.1) (1.12.0)\n",
            "Requirement already satisfied: wrapt>=1.11.1 in /usr/local/lib/python3.6/dist-packages (from tensorflow->flowpm==0.1) (1.11.2)\n",
            "Requirement already satisfied: astor>=0.6.0 in /usr/local/lib/python3.6/dist-packages (from tensorflow->flowpm==0.1) (0.8.0)\n",
            "Requirement already satisfied: wheel>=0.26 in /usr/local/lib/python3.6/dist-packages (from tensorflow->flowpm==0.1) (0.33.6)\n",
            "Requirement already satisfied: google-pasta>=0.1.6 in /usr/local/lib/python3.6/dist-packages (from tensorflow->flowpm==0.1) (0.1.7)\n",
            "Requirement already satisfied: absl-py>=0.7.0 in /usr/local/lib/python3.6/dist-packages (from tensorflow->flowpm==0.1) (0.8.0)\n",
            "Requirement already satisfied: tensorflow-estimator<1.15.0rc0,>=1.14.0rc0 in /usr/local/lib/python3.6/dist-packages (from tensorflow->flowpm==0.1) (1.14.0)\n",
            "Requirement already satisfied: setuptools in /usr/local/lib/python3.6/dist-packages (from protobuf>=3.6.1->tensorflow->flowpm==0.1) (41.2.0)\n",
            "Requirement already satisfied: werkzeug>=0.11.15 in /usr/local/lib/python3.6/dist-packages (from tensorboard<1.15.0,>=1.14.0->tensorflow->flowpm==0.1) (0.15.6)\n",
            "Requirement already satisfied: markdown>=2.6.8 in /usr/local/lib/python3.6/dist-packages (from tensorboard<1.15.0,>=1.14.0->tensorflow->flowpm==0.1) (3.1.1)\n",
            "Requirement already satisfied: h5py in /usr/local/lib/python3.6/dist-packages (from keras-applications>=1.0.6->tensorflow->flowpm==0.1) (2.8.0)\n",
            "Building wheels for collected packages: flowpm\n",
            "  Building wheel for flowpm (setup.py) ... \u001b[?25l\u001b[?25hdone\n",
            "  Created wheel for flowpm: filename=flowpm-0.1-cp36-none-any.whl size=11362 sha256=66fe31cea77267a9561008082afb8ec603bf0ec2c5270abfbcbce315a3ab3e03\n",
            "  Stored in directory: /tmp/pip-ephem-wheel-cache-26dim9f3/wheels/a7/cf/46/38a5d061a8e3218031be48fd77d3c4c096624b1b1497197fe3\n",
            "Successfully built flowpm\n",
            "Installing collected packages: flowpm\n",
            "Successfully installed flowpm-0.1\n"
          ],
          "name": "stdout"
        }
      ]
    },
    {
      "cell_type": "code",
      "metadata": {
        "id": "8S7fbkVAKh8_",
        "colab_type": "code",
        "colab": {
          "base_uri": "https://localhost:8080/",
          "height": 35
        },
        "outputId": "e55a8259-6ea9-4e33-fd0a-c83fc7893351"
      },
      "source": [
        "%pylab inline\n",
        "from flowpm import linear_field, lpt_init, nbody, cic_paint\n",
        "import tensorflow as tf\n",
        "from scipy.interpolate import InterpolatedUnivariateSpline as iuspline\n",
        "\n",
        "klin = np.loadtxt('flowpm/flowpm/data/Planck15_a1p00.txt').T[0]\n",
        "plin = np.loadtxt('flowpm/flowpm/data/Planck15_a1p00.txt').T[1]\n",
        "\n",
        "ipklin = iuspline(klin, plin)"
      ],
      "execution_count": 6,
      "outputs": [
        {
          "output_type": "stream",
          "text": [
            "Populating the interactive namespace from numpy and matplotlib\n"
          ],
          "name": "stdout"
        }
      ]
    },
    {
      "cell_type": "code",
      "metadata": {
        "id": "t5C12OPAO0GU",
        "colab_type": "code",
        "colab": {
          "base_uri": "https://localhost:8080/",
          "height": 125
        },
        "outputId": "c93c4120-0a22-4c78-f281-a61c936435de"
      },
      "source": [
        "import flowpm\n",
        "\n",
        "stages = np.linspace(0.1, 1.0, 10, endpoint=True)\n",
        "\n",
        "initial_conditions = flowpm.linear_field(32,          # size of the cube\n",
        "                                         100,         # Physical size of the cube\n",
        "                                         ipklin,      # Initial powerspectrum\n",
        "                                         batch_size=16)\n",
        "\n",
        "# Sample particles\n",
        "state = flowpm.lpt_init(initial_conditions, a0=0.1)   \n",
        "\n",
        "# Evolve particles down to z=0\n",
        "final_state = flowpm.nbody(state, stages, 32)         \n",
        "\n",
        "# Retrieve final density field\n",
        "final_field = flowpm.cic_paint(tf.zeros_like(initial_conditions), final_state[0])\n",
        "\n",
        "with tf.Session() as sess:\n",
        "    sim = sess.run(final_field)"
      ],
      "execution_count": 7,
      "outputs": [
        {
          "output_type": "stream",
          "text": [
            "WARNING:tensorflow:From /usr/local/lib/python3.6/dist-packages/flowpm/utils.py:158: The name tf.random_normal is deprecated. Please use tf.random.normal instead.\n",
            "\n",
            "WARNING:tensorflow:From /usr/local/lib/python3.6/dist-packages/flowpm/utils.py:123: The name tf.spectral.fft3d is deprecated. Please use tf.signal.fft3d instead.\n",
            "\n",
            "WARNING:tensorflow:From /usr/local/lib/python3.6/dist-packages/flowpm/utils.py:149: The name tf.spectral.ifft3d is deprecated. Please use tf.signal.ifft3d instead.\n",
            "\n"
          ],
          "name": "stdout"
        }
      ]
    },
    {
      "cell_type": "code",
      "metadata": {
        "id": "mAaXAOlrQJFm",
        "colab_type": "code",
        "colab": {
          "base_uri": "https://localhost:8080/",
          "height": 287
        },
        "outputId": "4a0395bd-ae36-464d-b46d-528f32c149c9"
      },
      "source": [
        "imshow(sim[0].sum(axis=0))"
      ],
      "execution_count": 8,
      "outputs": [
        {
          "output_type": "execute_result",
          "data": {
            "text/plain": [
              "<matplotlib.image.AxesImage at 0x7fa5a03ee940>"
            ]
          },
          "metadata": {
            "tags": []
          },
          "execution_count": 8
        },
        {
          "output_type": "display_data",
          "data": {
            "image/png": "[encoded data removed]",
            "text/plain": [
              "<Figure size 432x288 with 1 Axes>"
            ]
          },
          "metadata": {
            "tags": []
          }
        }
      ]
    },
    {
      "cell_type": "code",
      "metadata": {
        "id": "QIorjNdoQWEr",
        "colab_type": "code",
        "colab": {}
      },
      "source": [
        ""
      ],
      "execution_count": 0,
      "outputs": []
    }
  ]
}
