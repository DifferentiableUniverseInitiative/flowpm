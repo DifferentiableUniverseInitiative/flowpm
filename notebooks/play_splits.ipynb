{
 "cells": [
  {
   "cell_type": "code",
   "execution_count": 1,
   "metadata": {},
   "outputs": [
    {
     "name": "stdout",
     "output_type": "stream",
     "text": [
      "Populating the interactive namespace from numpy and matplotlib\n"
     ]
    },
    {
     "name": "stderr",
     "output_type": "stream",
     "text": [
      "/global/homes/c/chmodi/.conda/envs/fastpm/lib/python3.6/site-packages/nbodykit/extern/docrep.py:412: MatplotlibDeprecationWarning: \n",
      "The dedent function was deprecated in Matplotlib 3.1 and will be removed in 3.3. Use inspect.cleandoc instead.\n",
      "  s = dedents(s)\n",
      "/global/homes/c/chmodi/.conda/envs/fastpm/lib/python3.6/site-packages/nbodykit/extern/docrep.py:341: MatplotlibDeprecationWarning: \n",
      "The dedent function was deprecated in Matplotlib 3.1 and will be removed in 3.3. Use inspect.cleandoc instead.\n",
      "  s = dedents('\\n' + '\\n'.join(lines[first:]))\n"
     ]
    }
   ],
   "source": [
    "%pylab inline\n",
    "%load_ext autoreload\n",
    "%autoreload 2\n",
    "%matplotlib inline\n",
    "\n",
    "from pmesh.pm import ParticleMesh as PM\n",
    "from nbodykit.lab import BigFileCatalog, BigFileMesh, FFTPower\n",
    "import os, sys"
   ]
  },
  {
   "cell_type": "code",
   "execution_count": 99,
   "metadata": {},
   "outputs": [
    {
     "name": "stdout",
     "output_type": "stream",
     "text": [
      "[[42.97815681 27.95266908 61.17556106]]\n"
     ]
    }
   ],
   "source": [
    "##Setup a mock box, throw in a random particle to estimate its force at the the grid points\n",
    "\n",
    "bs = 100\n",
    "nc = 128\n",
    "pm = PM(BoxSize=bs, Nmesh=[nc]*3)\n",
    "grid = pm.generate_uniform_particle_grid(shift=0)\n",
    "\n",
    "ppos = (np.random.uniform(size=3)*bs).reshape(1, 3)\n",
    "print(ppos)\n",
    "mesh = pm.paint(ppos)/pm.Nmesh.prod()\n",
    "\n",
    "nrandom = int(1e5)\n",
    "rpos = (np.random.uniform(size=nrandom*3)*bs).reshape(nrandom, 3)\n",
    "\n",
    "rr = ((rpos - ppos)**2).sum(axis=1)**0.5\n"
   ]
  },
  {
   "cell_type": "code",
   "execution_count": 100,
   "metadata": {},
   "outputs": [],
   "source": [
    "def laplace(k, v):\n",
    "    kk = sum(ki ** 2 for ki in k)\n",
    "    mask = (kk == 0).nonzero()\n",
    "    kk[mask] = 1\n",
    "    b = v / kk\n",
    "    b[mask] = 0\n",
    "    return b\n",
    "\n",
    "\n",
    "def gradient(dir, order=0):\n",
    "    if order == 0:\n",
    "        def kernel(k, v):\n",
    "            # clear the nyquist to ensure field is real                                                                                                                             \n",
    "            mask = v.i[dir] != v.Nmesh[dir] // 2\n",
    "            return v * (1j * k[dir]) * mask\n",
    "    if order == 1:\n",
    "        def kernel(k, v):\n",
    "            cellsize = (v.BoxSize[dir] / v.Nmesh[dir])\n",
    "            w = k[dir] * cellsize\n",
    "\n",
    "            a = 1 / (6.0 * cellsize) * (8 * numpy.sin(w) - numpy.sin(2 * w))\n",
    "            # a is already zero at the nyquist to ensure field is real                                                                                                              \n",
    "            return v * (1j * a)\n",
    "    return kernel\n",
    "\n",
    "\n",
    "\n",
    "\n",
    "\n",
    "def force_batch(x, delta_k, split=0, factor=1):\n",
    "    \"\"\" like long range, but x is a list of positions \"\"\"\n",
    "    # different from fastpm in using regular gradient kernel and changed to singple processing computation\n",
    "\n",
    "    f = numpy.empty_like(x)\n",
    "\n",
    "    pot_k = delta_k.apply(laplace)\n",
    "\n",
    "    for d in range(delta_k.ndim):\n",
    "        force_d = pot_k.apply(gradient(d, order=1)) \\\n",
    "                  .c2r(out=Ellipsis)\n",
    "#         for xi, fi in zip(x, f):\n",
    "#             print(xi, fi)\n",
    "#             force_d.readout(xi, out=fi[..., d])\n",
    "        force_d.readout(x, out=f[..., d])\n",
    "\n",
    "    return f\n"
   ]
  },
  {
   "cell_type": "code",
   "execution_count": 101,
   "metadata": {},
   "outputs": [
    {
     "name": "stderr",
     "output_type": "stream",
     "text": [
      "/global/homes/c/chmodi/.conda/envs/fastpm/lib/python3.6/site-packages/ipykernel_launcher.py:2: DeprecationWarning: Calling np.sum(generator) is deprecated, and in the future will give a different result. Use np.sum(np.fromiter(generator)) or the python sum builtin instead.\n",
      "  \n"
     ]
    }
   ],
   "source": [
    "meshk = mesh.r2c()\n",
    "forcev = force_batch(rpos, meshk)\n",
    "force = (forcev**2).sum(axis=1)**0.5"
   ]
  },
  {
   "cell_type": "code",
   "execution_count": 102,
   "metadata": {},
   "outputs": [
    {
     "data": {
      "text/plain": [
       "[]"
      ]
     },
     "execution_count": 102,
     "metadata": {},
     "output_type": "execute_result"
    },
    {
     "data": {
      "image/png": "[encoded data removed]",
      "text/plain": [
       "<Figure size 432x288 with 1 Axes>"
      ]
     },
     "metadata": {
      "needs_background": "light"
     },
     "output_type": "display_data"
    }
   ],
   "source": [
    "##Plot the computed force at the grid points and expected 1/r^2\n",
    "plt.plot(rr, force, '.')\n",
    "plt.plot(rr, 1/rr**2, '.')\n",
    "plt.loglog()"
   ]
  },
  {
   "cell_type": "markdown",
   "metadata": {},
   "source": [
    "# Splitting"
   ]
  },
  {
   "cell_type": "code",
   "execution_count": 103,
   "metadata": {},
   "outputs": [],
   "source": [
    "def fknlongrange(r_split):\n",
    "    if r_split != 0:\n",
    "        def kernel(k, v):\n",
    "            kk = sum(ki ** 2 for ki in k)\n",
    "            return v * numpy.exp(-kk * r_split**2)\n",
    "    else:\n",
    "        def kernel(k, v):\n",
    "            return v\n",
    "    return kernel\n",
    "\n",
    "\n",
    "def fknsmallrange(r_split):\n",
    "    if r_split != 0:\n",
    "        def kernel(k, v):\n",
    "            kk = sum(ki ** 2 for ki in k)\n",
    "            return v * (1-numpy.exp(-kk * r_split**2))\n",
    "    else:\n",
    "        def kernel(k, v):\n",
    "            return v\n",
    "    return kernel\n",
    "\n",
    "\n",
    "\n",
    "def longrange_batch(x, delta_k, split, factor=1):\n",
    "    \"\"\" like long range, but x is a list of positions \"\"\"\n",
    "    # different from fastpm in using regular gradient kernel and changed to singple processing computation\n",
    "\n",
    "    f = numpy.empty_like(x)\n",
    "\n",
    "    pot_k = delta_k.apply(laplace) \\\n",
    "                  .apply(fknlongrange(split), out=Ellipsis)\n",
    "\n",
    "    for d in range(delta_k.ndim):\n",
    "        force_d = pot_k.apply(gradient(d, order=1)) \\\n",
    "                  .c2r(out=Ellipsis)\n",
    "        force_d.readout(x, out=f[..., d])\n",
    "\n",
    "    return f\n",
    "\n",
    "\n",
    "def smallrange_batch(x, delta_k, split, factor=1):\n",
    "    \"\"\" like long range, but x is a list of positions \"\"\"\n",
    "    # different from fastpm in using regular gradient kernel and changed to singple processing computation\n",
    "\n",
    "    f = numpy.empty_like(x)\n",
    "\n",
    "    pot_k = delta_k.apply(laplace) \\\n",
    "                  .apply(fknsmallrange(split), out=Ellipsis)\n",
    "\n",
    "    for d in range(delta_k.ndim):\n",
    "        force_d = pot_k.apply(gradient(d, order=1)) \\\n",
    "                  .c2r(out=Ellipsis)\n",
    "        force_d.readout(x, out=f[..., d])\n",
    "\n",
    "    return f\n"
   ]
  },
  {
   "cell_type": "code",
   "execution_count": 104,
   "metadata": {},
   "outputs": [
    {
     "data": {
      "text/plain": [
       "<matplotlib.lines.Line2D at 0x2aaad79120b8>"
      ]
     },
     "execution_count": 104,
     "metadata": {},
     "output_type": "execute_result"
    },
    {
     "data": {
      "image/png": "[encoded data removed]",
      "text/plain": [
       "<Figure size 432x288 with 1 Axes>"
      ]
     },
     "metadata": {
      "needs_background": "light"
     },
     "output_type": "display_data"
    }
   ],
   "source": [
    "kk = np.logspace(-2, 1, 1000)\n",
    "rc = 1*2\n",
    "plt.plot(kk, np.exp(-kk**2*rc))\n",
    "plt.axvline(rc)"
   ]
  },
  {
   "cell_type": "code",
   "execution_count": 105,
   "metadata": {},
   "outputs": [
    {
     "name": "stdout",
     "output_type": "stream",
     "text": [
      "25.0\n"
     ]
    },
    {
     "name": "stderr",
     "output_type": "stream",
     "text": [
      "/global/homes/c/chmodi/.conda/envs/fastpm/lib/python3.6/site-packages/ipykernel_launcher.py:2: DeprecationWarning: Calling np.sum(generator) is deprecated, and in the future will give a different result. Use np.sum(np.fromiter(generator)) or the python sum builtin instead.\n",
      "  \n",
      "/global/homes/c/chmodi/.conda/envs/fastpm/lib/python3.6/site-packages/ipykernel_launcher.py:4: DeprecationWarning: Calling np.sum(generator) is deprecated, and in the future will give a different result. Use np.sum(np.fromiter(generator)) or the python sum builtin instead.\n",
      "  after removing the cwd from sys.path.\n",
      "/global/homes/c/chmodi/.conda/envs/fastpm/lib/python3.6/site-packages/ipykernel_launcher.py:15: DeprecationWarning: Calling np.sum(generator) is deprecated, and in the future will give a different result. Use np.sum(np.fromiter(generator)) or the python sum builtin instead.\n",
      "  from ipykernel import kernelapp as app\n"
     ]
    }
   ],
   "source": [
    "pmlong = PM(BoxSize=bs, Nmesh=[32]*3)\n",
    "pmsmall = PM(BoxSize=bs, Nmesh=[nc]*3)\n",
    "\n",
    "meshlong = pmlong.paint(ppos)/pmlong.Nmesh.prod()\n",
    "meshsmall = pmsmall.paint(ppos)/pmlong.Nmesh.prod()\n",
    "\n",
    "rsplit = 1*bs/nc*32\n",
    "print(rsplit)\n",
    "forcelongv = longrange_batch(rpos, meshlong.r2c(), split=rsplit)\n",
    "forcelong = (forcelongv**2).sum(axis=1)**0.5\n",
    "\n",
    "forcesmallv = smallrange_batch(rpos, meshsmall.r2c(), split=rsplit)\n",
    "forcesmall = (forcesmallv**2).sum(axis=1)**0.5"
   ]
  },
  {
   "cell_type": "code",
   "execution_count": 106,
   "metadata": {},
   "outputs": [],
   "source": [
    "def plotrf(rr, ff, bins=100, lscale=True):\n",
    "    if lscale: rr = np.log(rr)\n",
    "    n, x = np.histogram(rr, bins=bins)\n",
    "    w, _ = np.histogram(rr, bins=bins, weights=ff)\n",
    "    w2, _ = np.histogram(rr, bins=bins, weights=ff**2)\n",
    "    err = (w**2 - w2)**0.5\n",
    "    if lscale: x = np.exp(x)\n",
    "    return x[:-1], w/n #, err"
   ]
  },
  {
   "cell_type": "code",
   "execution_count": 107,
   "metadata": {},
   "outputs": [
    {
     "name": "stderr",
     "output_type": "stream",
     "text": [
      "/global/homes/c/chmodi/.conda/envs/fastpm/lib/python3.6/site-packages/ipykernel_launcher.py:8: RuntimeWarning: invalid value encountered in true_divide\n",
      "  \n"
     ]
    },
    {
     "data": {
      "text/plain": [
       "[]"
      ]
     },
     "execution_count": 107,
     "metadata": {},
     "output_type": "execute_result"
    },
    {
     "data": {
      "image/png": "[encoded data removed]",
      "text/plain": [
       "<Figure size 432x288 with 1 Axes>"
      ]
     },
     "metadata": {
      "needs_background": "light"
     },
     "output_type": "display_data"
    }
   ],
   "source": [
    "##Plot the computed force at the grid points and expected 1/r^2\n",
    "\n",
    "plt.plot(*plotrf(rr, force), label='Force')\n",
    "plt.plot(*plotrf(rr, forcelong), label='Long')\n",
    "plt.plot(*plotrf(rr, forcesmall), label='Small')\n",
    "plt.plot(*plotrf(rr, 1/rr**2), '--')\n",
    "plt.legend()\n",
    "# plt.plot(rr, force, '.')\n",
    "# plt.plot(rr, forcelong, '.')\n",
    "# plt.plot(rr, forcesmall, '.')\n",
    "# # plt.plot(rr, 1/rr**2, '.')\n",
    "plt.loglog()"
   ]
  },
  {
   "cell_type": "code",
   "execution_count": 70,
   "metadata": {},
   "outputs": [
    {
     "data": {
      "text/plain": [
       "(array([  784,  4216, 10336, 16969, 20797, 20429, 16421,  7707,  2089,\n",
       "          252]), array([  1.87117337,  12.31642156,  22.76166976,  33.20691795,\n",
       "         43.65216615,  54.09741434,  64.54266254,  74.98791073,\n",
       "         85.43315893,  95.87840712, 106.32365532]))"
      ]
     },
     "execution_count": 70,
     "metadata": {},
     "output_type": "execute_result"
    }
   ],
   "source": [
    "np.histogram(rr)"
   ]
  }
 ],
 "metadata": {
  "kernelspec": {
   "display_name": "fastpm",
   "language": "python",
   "name": "fastpm"
  },
  "language_info": {
   "codemirror_mode": {
    "name": "ipython",
    "version": 3
   },
   "file_extension": ".py",
   "mimetype": "text/x-python",
   "name": "python",
   "nbconvert_exporter": "python",
   "pygments_lexer": "ipython3",
   "version": "3.6.8"
  }
 },
 "nbformat": 4,
 "nbformat_minor": 4
}
