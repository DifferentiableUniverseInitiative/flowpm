{
 "cells": [
  {
   "cell_type": "markdown",
   "metadata": {},
   "source": [
    "# Lensing Ray Tracing\n",
    "\n",
    "This notebook demonstrates how to run a lensing lightcone in flowpm"
   ]
  },
  {
   "cell_type": "code",
   "execution_count": 1,
   "metadata": {},
   "outputs": [
    {
     "name": "stdout",
     "output_type": "stream",
     "text": [
      "Populating the interactive namespace from numpy and matplotlib\n"
     ]
    }
   ],
   "source": [
    "%pylab inline \n",
    "\n",
    "import tensorflow as tf\n",
    "import flowpm\n",
    "from flowpm.tfpower import linear_matter_power"
   ]
  },
  {
   "cell_type": "code",
   "execution_count": 82,
   "metadata": {},
   "outputs": [],
   "source": [
    "# Below are a few parameters\n",
    "n_lens = 10       # Number of lensplanes in the lightcone\n",
    "box_size=200.     # Transverse comoving size of the simulation volume\n",
    "nc = 64           # Number of transverse voxels in the simulation volume\n",
    "field_size = 5    # Size of the lensing field in degrees\n",
    "field_npix = 64  # Number of pixels in the lensing field\n",
    "batch_size = 4    # Number of simulations to run in parallel"
   ]
  },
  {
   "cell_type": "code",
   "execution_count": 3,
   "metadata": {},
   "outputs": [],
   "source": [
    "# Instantiates a cosmology with desired parameters\n",
    "cosmology = flowpm.cosmology.Planck15()"
   ]
  },
  {
   "cell_type": "code",
   "execution_count": 4,
   "metadata": {},
   "outputs": [
    {
     "name": "stdout",
     "output_type": "stream",
     "text": [
      "WARNING:tensorflow:@custom_gradient grad_fn has 'variables' in signature, but no ResourceVariables were used on the forward pass.\n"
     ]
    }
   ],
   "source": [
    "# Schedule the center of the lensplanes we want for ray tracing\n",
    "r = tf.linspace(0., box_size*n_lens, n_lens+1)\n",
    "r_center = 0.5*(r[1:] + r[:-1])\n",
    "\n",
    "# Retrieve the scale factor corresponding to these distances\n",
    "a = flowpm.tfbackground.a_of_chi(cosmology, r)\n",
    "a_center =flowpm.tfbackground.a_of_chi(cosmology, r_center)"
   ]
  },
  {
   "cell_type": "code",
   "execution_count": 10,
   "metadata": {},
   "outputs": [
    {
     "data": {
      "text/plain": [
       "<tf.Tensor: shape=(), dtype=float32, numpy=0.82958937>"
      ]
     },
     "execution_count": 10,
     "metadata": {},
     "output_type": "execute_result"
    }
   ],
   "source": [
    "# this should be the redshift of our last lens\n",
    "1/a[-1] - 1"
   ]
  },
  {
   "cell_type": "code",
   "execution_count": 11,
   "metadata": {},
   "outputs": [],
   "source": [
    "# We run 4 steps from initial scale factor to start of raytracing\n",
    "init_stages = tf.linspace(0.1, a[-1], 4)\n",
    "# Then one step per lens plane\n",
    "stages = tf.concat([init_stages, a_center.numpy()[::-1]], axis=0)"
   ]
  },
  {
   "cell_type": "code",
   "execution_count": 12,
   "metadata": {},
   "outputs": [],
   "source": [
    "# Create some initial conditions\n",
    "initial_conditions = flowpm.linear_field([nc, nc, n_lens * nc],\n",
    "                                         [box_size, box_size, n_lens * box_size], \n",
    "                                         lambda k: tf.cast(linear_matter_power(cosmology, k), tf.complex64),         \n",
    "                                         batch_size=batch_size)\n",
    "initial_state = flowpm.lpt_init(cosmology, initial_conditions, 0.1)"
   ]
  },
  {
   "cell_type": "code",
   "execution_count": 13,
   "metadata": {},
   "outputs": [],
   "source": [
    "# Run the Nbody\n",
    "states = flowpm.nbody(cosmology, \n",
    "                      initial_state, \n",
    "                      stages,\n",
    "                      [nc, nc, n_lens * nc],return_intermediate_states=True) "
   ]
  },
  {
   "cell_type": "code",
   "execution_count": 87,
   "metadata": {},
   "outputs": [],
   "source": [
    "# Extract the lensplanes\n",
    "lensplanes = []\n",
    "for i in range(len(r_center)):\n",
    "    plane = flowpm.raytracing.density_plane(states[::-1][i][1],\n",
    "                                            [nc, nc, n_lens * nc],\n",
    "                                            r_center[i]/box_size*nc,\n",
    "                                            width=nc,\n",
    "                                            plane_resolution=nc)\n",
    "    lensplanes.append((r_center[i], states[::-1][i][0], plane))"
   ]
  },
  {
   "cell_type": "code",
   "execution_count": null,
   "metadata": {},
   "outputs": [],
   "source": [
    "# Here are the lens planes exported during the simulation\n",
    "figure(figsize=(50,5))\n",
    "for i in range(len(lensplanes)):\n",
    "    subplot(1,10,i+1)\n",
    "    imshow(lensplanes[i][-1][0])\n",
    "    axis('off')"
   ]
  },
  {
   "cell_type": "code",
   "execution_count": 89,
   "metadata": {},
   "outputs": [],
   "source": [
    "# Create a coordinate grid \n",
    "import astropy.units as u\n",
    "xgrid, ygrid = np.meshgrid(np.linspace(0, field_size, field_npix, endpoint=False), # range of X coordinates\n",
    "                           np.linspace(0, field_size, field_npix, endpoint=False)) # range of Y coordinates\n",
    "\n",
    "coords = np.stack([xgrid, ygrid], axis=0)*u.deg\n",
    "c = coords.reshape([2, -1]).T.to(u.rad)"
   ]
  },
  {
   "cell_type": "code",
   "execution_count": 90,
   "metadata": {},
   "outputs": [],
   "source": [
    "# Create array of source redshifts\n",
    "z_source = tf.linspace(0.1, 0.83, 10)"
   ]
  },
  {
   "cell_type": "code",
   "execution_count": 91,
   "metadata": {},
   "outputs": [],
   "source": [
    "m = flowpm.raytracing.convergenceBorn(cosmology, \n",
    "                    lensplanes, \n",
    "                    dx=box_size/nc, \n",
    "                    dz=box_size,\n",
    "                    coords=c,\n",
    "                    z_source=z_source)\n",
    "\n",
    "m = m.numpy().reshape([batch_size, field_npix, field_npix, 10])"
   ]
  },
  {
   "cell_type": "code",
   "execution_count": 92,
   "metadata": {},
   "outputs": [
    {
     "data": {
      "image/png": "[encoded data removed]",
      "text/plain": [
       "<Figure size 432x288 with 2 Axes>"
      ]
     },
     "metadata": {
      "needs_background": "light"
     },
     "output_type": "display_data"
    }
   ],
   "source": [
    "imshow(m[0,:,:,9]); colorbar();"
   ]
  },
  {
   "cell_type": "markdown",
   "metadata": {},
   "source": [
    "## Bonus: comparing power spectrum to theory\n"
   ]
  },
  {
   "cell_type": "code",
   "execution_count": 101,
   "metadata": {},
   "outputs": [],
   "source": [
    "import jax\n",
    "import jax_cosmo as jc\n",
    "import lenstools as lt\n",
    "import astropy.units as u"
   ]
  },
  {
   "cell_type": "code",
   "execution_count": 102,
   "metadata": {},
   "outputs": [],
   "source": [
    "nzs_s=jc.redshift.kde_nz(np.atleast_1d([0.83]), np.atleast_1d([1.]), bw=0.01)\n",
    "probes = [ jc.probes.WeakLensing([nzs_s]) ]"
   ]
  },
  {
   "cell_type": "code",
   "execution_count": 103,
   "metadata": {},
   "outputs": [],
   "source": [
    "l_edges = np.logspace(2,4, 16) "
   ]
  },
  {
   "cell_type": "code",
   "execution_count": 104,
   "metadata": {},
   "outputs": [],
   "source": [
    "ps = np.stack([lt.ConvergenceMap(kappa[...,-1], 5*u.deg).powerSpectrum(l_edges)[1] for kappa in m ], axis=0)\n",
    "l, _ = lt.ConvergenceMap(m[0,:,:,-1], 5*u.deg).powerSpectrum(l_edges)"
   ]
  },
  {
   "cell_type": "code",
   "execution_count": 105,
   "metadata": {},
   "outputs": [
    {
     "name": "stderr",
     "output_type": "stream",
     "text": [
      "/local/home/flanusse/.local/lib/python3.8/site-packages/jax/_src/numpy/lax_numpy.py:5031: UserWarning: Explicitly requested dtype <class 'jax._src.numpy.lax_numpy.int64'> requested in astype is not available, and will be truncated to dtype int32. To enable more dtypes, set the jax_enable_x64 configuration option or the JAX_ENABLE_X64 shell environment variable. See https://github.com/google/jax#current-gotchas for more.\n",
      "  lax._check_user_dtype_supported(dtype, \"astype\")\n"
     ]
    }
   ],
   "source": [
    "cls_th = jc.angular_cl.angular_cl(jc.Planck15(), l, probes)"
   ]
  },
  {
   "cell_type": "code",
   "execution_count": 106,
   "metadata": {},
   "outputs": [
    {
     "data": {
      "text/plain": [
       "<matplotlib.legend.Legend at 0x7f25f8515d90>"
      ]
     },
     "execution_count": 106,
     "metadata": {},
     "output_type": "execute_result"
    },
    {
     "data": {
      "image/png": "[encoded data removed]",
      "text/plain": [
       "<Figure size 432x288 with 1 Axes>"
      ]
     },
     "metadata": {
      "needs_background": "light"
     },
     "output_type": "display_data"
    }
   ],
   "source": [
    "loglog(l, ps.mean(axis=0), label='FlowPM')\n",
    "loglog(l, cls_th[0], label='jax_cosmo')\n",
    "legend()"
   ]
  },
  {
   "cell_type": "code",
   "execution_count": null,
   "metadata": {},
   "outputs": [],
   "source": []
  }
 ],
 "metadata": {
  "kernelspec": {
   "display_name": "Python 3",
   "language": "python",
   "name": "python3"
  },
  "language_info": {
   "codemirror_mode": {
    "name": "ipython",
    "version": 3
   },
   "file_extension": ".py",
   "mimetype": "text/x-python",
   "name": "python",
   "nbconvert_exporter": "python",
   "pygments_lexer": "ipython3",
   "version": "3.8.3"
  }
 },
 "nbformat": 4,
 "nbformat_minor": 4
}
