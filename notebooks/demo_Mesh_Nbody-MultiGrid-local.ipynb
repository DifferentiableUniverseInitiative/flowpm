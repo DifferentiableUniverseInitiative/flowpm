{
 "cells": [
  {
   "cell_type": "code",
   "execution_count": 1,
   "metadata": {},
   "outputs": [
    {
     "name": "stdout",
     "output_type": "stream",
     "text": [
      "Populating the interactive namespace from numpy and matplotlib\n"
     ]
    }
   ],
   "source": [
    "%load_ext autoreload\n",
    "%autoreload 2\n",
    "%pylab inline"
   ]
  },
  {
   "cell_type": "code",
   "execution_count": 2,
   "metadata": {},
   "outputs": [],
   "source": [
    "# import os \n",
    "# os.environ[\"CUDA_VISIBLE_DEVICES\"] = \"2\""
   ]
  },
  {
   "cell_type": "code",
   "execution_count": 3,
   "metadata": {},
   "outputs": [],
   "source": [
    "klin = np.loadtxt('../flowpm/data/Planck15_a1p00.txt').T[0]\n",
    "plin = np.loadtxt('../flowpm/data/Planck15_a1p00.txt').T[1]\n",
    "stages = np.linspace(0.1, 1.0, 5, endpoint=True)"
   ]
  },
  {
   "cell_type": "code",
   "execution_count": 4,
   "metadata": {},
   "outputs": [],
   "source": [
    "from scipy.interpolate import InterpolatedUnivariateSpline as iuspline\n",
    "\n",
    "ipklin = iuspline(klin, plin)"
   ]
  },
  {
   "cell_type": "code",
   "execution_count": 5,
   "metadata": {
    "scrolled": true
   },
   "outputs": [
    {
     "name": "stdout",
     "output_type": "stream",
     "text": [
      "WARNING:tensorflow:From /usr/lib/python3.8/site-packages/tensorflow_core/python/compat/v2_compat.py:88: disable_resource_variables (from tensorflow.python.ops.variable_scope) is deprecated and will be removed in a future version.\n",
      "Instructions for updating:\n",
      "non-resource variables are not supported in the long term\n"
     ]
    }
   ],
   "source": [
    "import tensorflow.compat.v1 as tf\n",
    "tf.disable_v2_behavior()\n",
    "import mesh_tensorflow as mtf"
   ]
  },
  {
   "cell_type": "code",
   "execution_count": 6,
   "metadata": {},
   "outputs": [],
   "source": [
    "# Define the cluster\n",
    "# cluster = tf.train.ClusterSpec({\"mesh\": [\"localhost:2222\", \"localhost:2223\"]})\n",
    "\n",
    "# import flowpm.mesh_ops as mpm\n",
    "\n",
    "\n",
    "mesh_hosts = [\"localhost:%d\"%(8222+j) for j in range(4)]\n",
    "\n",
    "# Create a cluster from the mesh hosts.                                                                                                                                                                                                                                                                                                                                  \n",
    "cluster = tf.train.ClusterSpec({\"mesh\": mesh_hosts, \"master\":[\"localhost:8488\"]})\n",
    "\n",
    "# Create a server for local mesh members                                                                                                                                                                                                                                                                                                                                 \n",
    "server = tf.train.Server(cluster,\n",
    "                       job_name=\"master\",\n",
    "                       task_index=0)\n",
    "\n",
    "devices = ['/job:mesh/task:%d'%i for i in range(cluster.num_tasks(\"mesh\"))]\n"
   ]
  },
  {
   "cell_type": "code",
   "execution_count": 7,
   "metadata": {},
   "outputs": [],
   "source": [
    "import sys\n",
    "sys.path.pop(6)\n",
    "sys.path.append('../')\n",
    "sys.path.append('../flowpm/')\n"
   ]
  },
  {
   "cell_type": "code",
   "execution_count": 8,
   "metadata": {},
   "outputs": [],
   "source": [
    "# import flowpm.mesh_ops as mpm\n",
    "import flowpm\n",
    "from flowpm import mesh_ops\n",
    "from flowpm import mesh_utils\n",
    "from flowpm import mesh_kernels\n",
    "\n",
    "import flowpm.mesh_utils as mpu\n",
    "import flowpm.mtfpm as fpm\n",
    "import tensorflow_probability as tfp\n",
    "\n",
    "\n",
    "graph = mtf.Graph()\n",
    "mesh = mtf.Mesh(graph, \"my_mesh\")\n",
    "\n",
    "batch_size = 1\n",
    "boxsize=100\n",
    "nc = 64       # Native resolution of the grid\n",
    "\n",
    "# Parameters of the small scales decomposition\n",
    "n_block_x = 2\n",
    "n_block_y = 2\n",
    "n_block_z = 1\n",
    "halo_size = 16\n",
    "\n",
    "# Parameters of the large scales decomposition\n",
    "downsampling_factor = 2\n",
    "lnc = nc // 2**downsampling_factor \n",
    "\n",
    "fx_dim = mtf.Dimension(\"nx\", nc)\n",
    "fy_dim = mtf.Dimension(\"ny\", nc)\n",
    "fz_dim = mtf.Dimension(\"nz\", nc)\n",
    "\n",
    "# Dimensions of the low resolution grid\n",
    "x_dim = mtf.Dimension(\"nx_lr\", lnc)\n",
    "y_dim = mtf.Dimension(\"ny_lr\", lnc)\n",
    "z_dim = mtf.Dimension(\"nz_lr\", lnc)\n",
    "\n",
    "tx_dim = mtf.Dimension(\"tx_lr\", lnc)\n",
    "ty_dim = mtf.Dimension(\"ty_lr\", lnc)\n",
    "tz_dim = mtf.Dimension(\"tz_lr\", lnc)\n",
    "\n",
    "nx_dim = mtf.Dimension('nx_block', n_block_x)\n",
    "ny_dim = mtf.Dimension('ny_block', n_block_y)\n",
    "nz_dim = mtf.Dimension('nz_block', n_block_z)\n",
    "\n",
    "sx_dim = mtf.Dimension('sx_block', nc//n_block_x)\n",
    "sy_dim = mtf.Dimension('sy_block', nc//n_block_y)\n",
    "sz_dim = mtf.Dimension('sz_block', nc//n_block_z)\n",
    "\n",
    "batch_dim = mtf.Dimension(\"batch\", batch_size)\n",
    "pk_dim = mtf.Dimension(\"npk\", len(plin))\n",
    "pk = mtf.import_tf_tensor(mesh, plin.astype('float32'), shape=[pk_dim])"
   ]
  },
  {
   "cell_type": "code",
   "execution_count": 9,
   "metadata": {},
   "outputs": [],
   "source": [
    "# kvec for low resolution grid\n",
    "kvec_lr = flowpm.kernels.fftk([lnc, lnc, lnc], symmetric=False) \n",
    "\n",
    "kx_lr = mtf.import_tf_tensor(mesh, kvec_lr[0].squeeze().astype('float32')/ 2**downsampling_factor, shape=[tx_dim])\n",
    "ky_lr = mtf.import_tf_tensor(mesh, kvec_lr[1].squeeze().astype('float32')/ 2**downsampling_factor, shape=[ty_dim])\n",
    "kz_lr = mtf.import_tf_tensor(mesh, kvec_lr[2].squeeze().astype('float32')/ 2**downsampling_factor, shape=[tz_dim])\n",
    "kv_lr = [ky_lr, kz_lr, kx_lr]\n",
    "\n",
    "# kvec for high resolution blocks\n",
    "padded_sx_dim = mtf.Dimension('padded_sx_block', nc//n_block_x+2*halo_size)\n",
    "padded_sy_dim = mtf.Dimension('padded_sy_block', nc//n_block_y+2*halo_size)\n",
    "padded_sz_dim = mtf.Dimension('padded_sz_block', nc//n_block_z+2*halo_size)\n",
    "kvec_hr = flowpm.kernels.fftk([nc//n_block_x+2*halo_size, nc//n_block_y+2*halo_size, nc//n_block_z+2*halo_size], symmetric=False)\n",
    "\n",
    "kx_hr = mtf.import_tf_tensor(mesh, kvec_hr[0].squeeze().astype('float32'), shape=[padded_sx_dim])\n",
    "ky_hr = mtf.import_tf_tensor(mesh, kvec_hr[1].squeeze().astype('float32'), shape=[padded_sy_dim])\n",
    "kz_hr = mtf.import_tf_tensor(mesh, kvec_hr[2].squeeze().astype('float32'), shape=[padded_sz_dim])\n",
    "kv_hr = [kx_hr, ky_hr, kz_hr]"
   ]
  },
  {
   "cell_type": "code",
   "execution_count": 10,
   "metadata": {},
   "outputs": [],
   "source": [
    "lr_shape = [batch_dim, \n",
    "            x_dim, y_dim, z_dim]"
   ]
  },
  {
   "cell_type": "code",
   "execution_count": 11,
   "metadata": {},
   "outputs": [],
   "source": [
    "hr_shape = [batch_dim, \n",
    "            nx_dim, ny_dim, nz_dim,\n",
    "            sx_dim, sy_dim, sz_dim]"
   ]
  },
  {
   "cell_type": "code",
   "execution_count": 12,
   "metadata": {},
   "outputs": [],
   "source": [
    "part_shape = [batch_dim, fx_dim, fy_dim, fz_dim]"
   ]
  },
  {
   "cell_type": "code",
   "execution_count": 13,
   "metadata": {},
   "outputs": [
    {
     "data": {
      "text/plain": [
       "[Dimension(name='batch', size=1),\n",
       " Dimension(name='nx_lr', size=16),\n",
       " Dimension(name='ny_lr', size=16),\n",
       " Dimension(name='nz_lr', size=16)]"
      ]
     },
     "execution_count": 13,
     "metadata": {},
     "output_type": "execute_result"
    }
   ],
   "source": [
    "lr_shape"
   ]
  },
  {
   "cell_type": "code",
   "execution_count": 14,
   "metadata": {},
   "outputs": [
    {
     "data": {
      "text/plain": [
       "[Dimension(name='batch', size=1),\n",
       " Dimension(name='nx_block', size=2),\n",
       " Dimension(name='ny_block', size=2),\n",
       " Dimension(name='nz_block', size=1),\n",
       " Dimension(name='sx_block', size=32),\n",
       " Dimension(name='sy_block', size=32),\n",
       " Dimension(name='sz_block', size=64)]"
      ]
     },
     "execution_count": 14,
     "metadata": {},
     "output_type": "execute_result"
    }
   ],
   "source": [
    "hr_shape"
   ]
  },
  {
   "cell_type": "code",
   "execution_count": 15,
   "metadata": {},
   "outputs": [
    {
     "data": {
      "text/plain": [
       "[Dimension(name='nx_block', size=2),\n",
       " Dimension(name='ny_block', size=2),\n",
       " Dimension(name='nz_block', size=1)]"
      ]
     },
     "execution_count": 15,
     "metadata": {},
     "output_type": "execute_result"
    }
   ],
   "source": [
    "hr_shape[1:4]"
   ]
  },
  {
   "cell_type": "code",
   "execution_count": 16,
   "metadata": {},
   "outputs": [],
   "source": [
    "k_dims = [tx_dim, ty_dim, tz_dim]"
   ]
  },
  {
   "cell_type": "code",
   "execution_count": 17,
   "metadata": {},
   "outputs": [],
   "source": [
    "initial_conditions = flowpm.linear_field(nc,          # size of the cube\n",
    "                                         boxsize,     # Physical size of the cube\n",
    "                                         ipklin,      # Initial powerspectrum\n",
    "                                         batch_size=batch_size)\n",
    "initc = tf.reshape(initial_conditions, [1, 2, 2, 1, nc//2, nc//2, nc])\n",
    "\n",
    "field = mtf.import_tf_tensor(mesh, initc, shape=hr_shape)\n",
    "\n",
    "\n",
    "for block_size_dim in hr_shape[-3:]:\n",
    "    field = mtf.pad(field, [halo_size, halo_size], block_size_dim.name)\n",
    "\n",
    "for blocks_dim, block_size_dim in zip(hr_shape[1:4], field.shape[-3:]):\n",
    "    field = mesh_ops.halo_reduce(field, blocks_dim, block_size_dim, halo_size)\n",
    "\n",
    "field = mtf.reshape(field, field.shape+[mtf.Dimension('h_dim', 1)])\n",
    "high = field\n",
    "low = mesh_utils.downsample(field, downsampling_factor, antialias=True)\n",
    "\n",
    "low = mtf.reshape(low, low.shape[:-1])\n",
    "high = mtf.reshape(high, high.shape[:-1])\n",
    "\n",
    "for block_size_dim in hr_shape[-3:]:\n",
    "    low = mtf.slice(low, halo_size//2**downsampling_factor, block_size_dim.size//2**downsampling_factor, block_size_dim.name)\n",
    "#low = mtf.reshape(low, lr_shape)\n",
    "\n",
    "low = mtf.slicewise(lambda x: x[:,0,0,0],\n",
    "                    [low],\n",
    "                    output_dtype=tf.float32,\n",
    "                    output_shape=lr_shape,\n",
    "                    name='my_dumb_reshape',\n",
    "                    splittable_dims=lr_shape[:-1]+hr_shape[:4])"
   ]
  },
  {
   "cell_type": "code",
   "execution_count": 18,
   "metadata": {},
   "outputs": [
    {
     "name": "stdout",
     "output_type": "stream",
     "text": [
      "Tensor[FFT3D:0, Shape[batch=1, ty_lr=16, tz_lr=16, tx_lr=16], <dtype: 'complex64'>]\n",
      "[Tensor[import_2:0, Shape[ty_lr=16], <dtype: 'float32'>], Tensor[import_3:0, Shape[tz_lr=16], <dtype: 'float32'>], Tensor[import_1:0, Shape[tx_lr=16], <dtype: 'float32'>]]\n"
     ]
    }
   ],
   "source": [
    "state = fpm.lpt_init(low, high, 0.1, kv_lr, kv_hr, halo_size, hr_shape, lr_shape, k_dims, part_shape[1:],\n",
    "                            downsampling_factor=downsampling_factor, antialias=True,)"
   ]
  },
  {
   "cell_type": "code",
   "execution_count": 19,
   "metadata": {},
   "outputs": [],
   "source": [
    "# Here we can run our nbody\n",
    "final_state = state # fpm.nbody(state, stages, lr_shape, hr_shape, k_dims, kv_lr, kv_hr, halo_size, downsampling_factor=downsampling_factor)"
   ]
  },
  {
   "cell_type": "code",
   "execution_count": 20,
   "metadata": {},
   "outputs": [],
   "source": [
    "# paint the field\n",
    "final_field = mtf.zeros(mesh, shape=hr_shape)\n",
    "for block_size_dim in hr_shape[-3:]:\n",
    "    final_field = mtf.pad(final_field, [halo_size, halo_size], block_size_dim.name)\n",
    "final_field = mpu.cic_paint(final_field, final_state[0], halo_size)\n",
    "# Halo exchange\n",
    "for blocks_dim, block_size_dim in zip(hr_shape[1:4], final_field.shape[-3:]):\n",
    "    final_field = mesh_ops.halo_reduce(final_field, blocks_dim, block_size_dim, halo_size)\n",
    "# Remove borders\n",
    "for block_size_dim in hr_shape[-3:]:\n",
    "    final_field = mtf.slice(final_field, halo_size, block_size_dim.size, block_size_dim.name)"
   ]
  },
  {
   "cell_type": "code",
   "execution_count": 21,
   "metadata": {},
   "outputs": [],
   "source": [
    "#final_field = mtf.reshape(final_field,  [batch_dim, fx_dim, fy_dim, fz_dim])\n",
    "final_field = mtf.slicewise(lambda x: x[:,0,0,0],\n",
    "                    [final_field],\n",
    "                    output_dtype=tf.float32,\n",
    "                    output_shape=[batch_dim, fx_dim, fy_dim, fz_dim],\n",
    "                    name='my_dumb_reshape',\n",
    "                    splittable_dims=part_shape[:-1]+hr_shape[:4])\n"
   ]
  },
  {
   "cell_type": "code",
   "execution_count": 22,
   "metadata": {
    "scrolled": false
   },
   "outputs": [
    {
     "name": "stdout",
     "output_type": "stream",
     "text": [
      "FFT changing split 1\n",
      "FFT changing split 0\n",
      "iFFT changing split 0\n",
      "iFFT changing split 1\n",
      "iFFT changing split 0\n",
      "iFFT changing split 1\n",
      "iFFT changing split 0\n",
      "iFFT changing split 1\n",
      "INFO:tensorflow:Counters:\n",
      "conv3d: 3.06e+08\n",
      " conv3d/forward: 3.06e+08\n",
      "conv3d_transpose: 3.64e+09\n",
      " conv3d_transpose/forward: 3.64e+09\n",
      "conv3d_transpose_unique: 3.64e+09\n",
      " conv3d_transpose_unique/forward: 3.64e+09\n",
      "conv3d_unique: 3.06e+08\n",
      " conv3d_unique/forward: 3.06e+08\n",
      "einsum: 8.03e+05\n",
      "einsum_unique: 8.03e+05\n",
      "output: 1.93e+08\n",
      " output/AddOperation: 3.81e+07\n",
      " output/Constant: 2.62e+05\n",
      " output/Conv3dOperation: 9.83e+05\n",
      " output/Conv3dTransposeOperation: 1.06e+07\n",
      " output/EinsumOperation: 8.03e+05\n",
      " output/FFT3DOperation: 4.1e+03\n",
      " output/ImportOperation: 2.99e+05\n",
      " output/IndicesOperation: 7.86e+05\n",
      " output/PadOperation: 3.54e+07\n",
      " output/ReshapeOperation: 2.21e+07\n",
      " output/ScalarMultiplyOperation: 2.38e+06\n",
      " output/ShiftOperation: 8.59e+06\n",
      " output/SliceOperation: 1.11e+07\n",
      " output/SlicewiseOperation: 6.03e+07\n",
      " output/StackOperation: 7.86e+05\n",
      " output/iFFT3DOperation: 1.23e+04\n",
      "output_unique: 1.93e+08\n",
      " output_unique/AddOperation: 3.81e+07\n",
      " output_unique/Constant: 2.62e+05\n",
      " output_unique/Conv3dOperation: 9.83e+05\n",
      " output_unique/Conv3dTransposeOperation: 1.06e+07\n",
      " output_unique/EinsumOperation: 8.03e+05\n",
      " output_unique/FFT3DOperation: 4.1e+03\n",
      " output_unique/ImportOperation: 2.71e+05\n",
      " output_unique/IndicesOperation: 7.86e+05\n",
      " output_unique/PadOperation: 3.54e+07\n",
      " output_unique/ReshapeOperation: 2.21e+07\n",
      " output_unique/ScalarMultiplyOperation: 2.36e+06\n",
      " output_unique/ShiftOperation: 8.59e+06\n",
      " output_unique/SliceOperation: 1.11e+07\n",
      " output_unique/SlicewiseOperation: 6.03e+07\n",
      " output_unique/StackOperation: 7.86e+05\n",
      " output_unique/iFFT3DOperation: 1.23e+04\n",
      "shift[-1]: 3.22e+06\n",
      "shift[1]: 3.22e+06\n"
     ]
    }
   ],
   "source": [
    "# Let's have a look!\n",
    "devices = [\"/job:mesh/task:%d\"%i for i in range(cluster.num_tasks(\"mesh\"))]\n",
    "mesh_shape = [(\"row\", 2), (\"col\", 2)]\n",
    "layout_rules = [(\"nx_lr\", \"row\"), (\"ny_lr\", \"col\"),\n",
    "                (\"nx\", \"row\"), (\"ny\", \"col\"),\n",
    "                (\"ty_lr\", \"row\"), (\"tz_lr\", \"col\"),\n",
    "                (\"nx_block\",\"row\"), (\"ny_block\",\"col\")]\n",
    "\n",
    "mesh_impl = mtf.placement_mesh_impl.PlacementMeshImpl(\n",
    "    mesh_shape, layout_rules, devices)\n",
    "\n",
    "lowering = mtf.Lowering(graph, {mesh:mesh_impl})\n",
    "\n",
    "tf_field = lowering.export_to_tf_tensor(final_field)"
   ]
  },
  {
   "cell_type": "code",
   "execution_count": 23,
   "metadata": {},
   "outputs": [],
   "source": [
    "# Compute evolution of the field using standard FlowPM\n",
    "state = flowpm.lpt_init(initial_conditions, a0=0.1,order=1) \n",
    "final_state = state# flowpm.nbody(state,  stages, nc)\n",
    "tfinal_field = flowpm.cic_paint(tf.zeros_like(initial_conditions), final_state[0])"
   ]
  },
  {
   "cell_type": "code",
   "execution_count": 24,
   "metadata": {},
   "outputs": [],
   "source": [
    "# with tf.Session(\"grpc://localhost:2222\") as sess:\n",
    "#     fin_ref = sess.run(tfinal_field )\n",
    "#with tf.Session(\"grpc://localhost:8488\") as sess:\n",
    "#    fin_ref = sess.run(tfinal_field )"
   ]
  },
  {
   "cell_type": "code",
   "execution_count": 25,
   "metadata": {},
   "outputs": [],
   "source": [
    "with tf.Session(\"grpc://localhost:8488\") as sess:\n",
    "    fin_ref, fin = sess.run([tfinal_field , tf_field])"
   ]
  },
  {
   "cell_type": "code",
   "execution_count": 27,
   "metadata": {},
   "outputs": [
    {
     "data": {
      "image/png": "[encoded data removed]",
      "text/plain": [
       "<Figure size 1080x288 with 6 Axes>"
      ]
     },
     "metadata": {
      "needs_background": "light"
     },
     "output_type": "display_data"
    }
   ],
   "source": [
    "figure(figsize=(15,4))\n",
    "subplot(131)\n",
    "imshow((fin)[0,].sum(axis=2)); colorbar();\n",
    "title('MultiResolution Mesh')\n",
    "subplot(132)\n",
    "imshow(fin_ref[0,].sum(axis=2),cmap='gist_stern'); colorbar();\n",
    "title('Single Mesh')\n",
    "subplot(133)\n",
    "imshow((fin_ref - fin)[0,].sum(axis=2),cmap='magma'); colorbar();\n",
    "title('Residuals')\n",
    "savefig('figname.png',  transparent=False)"
   ]
  },
  {
   "cell_type": "code",
   "execution_count": 38,
   "metadata": {},
   "outputs": [],
   "source": [
    "from nbodykit.lab import *\n",
    "from nbodykit import setup_logging, style\n",
    "from pmesh.pm import ParticleMesh as PM"
   ]
  },
  {
   "cell_type": "code",
   "execution_count": 43,
   "metadata": {},
   "outputs": [],
   "source": [
    "pm = PM(Nmesh=[nc]*3, BoxSize=[boxsize]*3)\n"
   ]
  },
  {
   "cell_type": "code",
   "execution_count": 49,
   "metadata": {},
   "outputs": [
    {
     "name": "stderr",
     "output_type": "stream",
     "text": [
      "/home/chirag/anaconda3/envs/tflow2/lib/python3.6/site-packages/ipykernel_launcher.py:1: DeprecationWarning: argument mode is deprecated. use type=real instead\n",
      "  \"\"\"Entry point for launching an IPython kernel.\n",
      "/home/chirag/anaconda3/envs/tflow2/lib/python3.6/site-packages/ipykernel_launcher.py:2: DeprecationWarning: argument mode is deprecated. use type=real instead\n",
      "  \n",
      "/home/chirag/anaconda3/envs/tflow2/lib/python3.6/site-packages/ipykernel_launcher.py:3: DeprecationWarning: argument mode is deprecated. use type=real instead\n",
      "  This is separate from the ipykernel package so we can avoid doing imports until\n",
      "/home/chirag/anaconda3/envs/tflow2/lib/python3.6/site-packages/ipykernel_launcher.py:4: DeprecationWarning: argument mode is deprecated. use type=real instead\n",
      "  after removing the cwd from sys.path.\n"
     ]
    }
   ],
   "source": [
    "k = FFTPower(pm.create(mode='real', value=fin), mode='1d').power['k']\n",
    "pkf = FFTPower(pm.create(mode='real', value=fin), mode='1d').power['power']\n",
    "pkfref = FFTPower(pm.create(mode='real', value=fin_ref), mode='1d').power['power']\n",
    "pkx = FFTPower(pm.create(mode='real', value=fin), second=pm.create(mode='real', value=fin_ref), mode='1d').power['power']"
   ]
  },
  {
   "cell_type": "code",
   "execution_count": 58,
   "metadata": {},
   "outputs": [
    {
     "name": "stderr",
     "output_type": "stream",
     "text": [
      "/home/chirag/anaconda3/envs/tflow2/lib/python3.6/site-packages/ipykernel_launcher.py:1: RuntimeWarning: invalid value encountered in true_divide\n",
      "  \"\"\"Entry point for launching an IPython kernel.\n",
      "/home/chirag/anaconda3/envs/tflow2/lib/python3.6/site-packages/ipykernel_launcher.py:2: RuntimeWarning: invalid value encountered in true_divide\n",
      "  \n"
     ]
    },
    {
     "data": {
      "text/plain": [
       "Text(0.5, 0, 'k (h/Mpc)')"
      ]
     },
     "execution_count": 58,
     "metadata": {},
     "output_type": "execute_result"
    },
    {
     "data": {
      "image/png": "[encoded data removed]",
      "text/plain": [
       "<Figure size 432x288 with 1 Axes>"
      ]
     },
     "metadata": {
      "needs_background": "light"
     },
     "output_type": "display_data"
    }
   ],
   "source": [
    "plt.plot(k, pkf/pkfref, label='TF')\n",
    "plt.plot(k, pkx/(pkfref*pkf)**0.5, label='$r_c$')\n",
    "plt.semilogx()\n",
    "plt.ylim(0.999, 1.001)\n",
    "plt.legend(fontsize=12)\n",
    "plt.xlabel('k (h/Mpc)', fontsize=12)"
   ]
  },
  {
   "cell_type": "code",
   "execution_count": null,
   "metadata": {},
   "outputs": [],
   "source": []
  }
 ],
 "metadata": {
  "kernelspec": {
   "display_name": "Python 3",
   "language": "python",
   "name": "python3"
  },
  "language_info": {
   "codemirror_mode": {
    "name": "ipython",
    "version": 3
   },
   "file_extension": ".py",
   "mimetype": "text/x-python",
   "name": "python",
   "nbconvert_exporter": "python",
   "pygments_lexer": "ipython3",
   "version": "3.8.1"
  }
 },
 "nbformat": 4,
 "nbformat_minor": 2
}
