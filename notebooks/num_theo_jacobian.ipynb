{
 "cells": [
  {
   "cell_type": "code",
   "execution_count": 1,
   "metadata": {},
   "outputs": [
    {
     "name": "stdout",
     "output_type": "stream",
     "text": [
      "Populating the interactive namespace from numpy and matplotlib\n"
     ]
    }
   ],
   "source": [
    "%pylab inline \n",
    "%load_ext autoreload\n",
    "%autoreload 2\n",
    "import numdifftools as nd\n",
    "import tensorflow as tf\n",
    "import numpy as np\n",
    "import flowpm\n",
    "import flowpm.tfpower as tfpower\n",
    "import flowpm.scipy.interpolate as interpolate\n",
    "from DifferentiableHOS.pk import pk as pkl\n",
    "import pickle"
   ]
  },
  {
   "cell_type": "code",
   "execution_count": 2,
   "metadata": {},
   "outputs": [],
   "source": [
    "nsteps=11\n",
    "nc=32\n",
    "box_size=128\n",
    "Omega_c=0.2589\n",
    "sigma8=0.8159"
   ]
  },
  {
   "cell_type": "code",
   "execution_count": 3,
   "metadata": {},
   "outputs": [],
   "source": [
    "def compute_initial_cond(Omega_c):\n",
    "    # Instantiates a cosmology with desired parameters\n",
    "    cosmology = flowpm.cosmology.Planck15(Omega_c=Omega_c)\n",
    "    stages = np.linspace(0.1, 1., nsteps, endpoint=True)\n",
    "    # Compute linear matter power spectrum\n",
    "    k = tf.constant(np.logspace(-4, 1, 256), dtype=tf.float32)\n",
    "    pk = tfpower.linear_matter_power(cosmology, k)\n",
    "    pk_fun = lambda x: tf.cast(tf.reshape(interpolate.interp_tf(tf.reshape(tf.cast(x, tf.float32), [-1]), k, pk), x.shape), tf.complex64)\n",
    "\n",
    "    # And initial conditions\n",
    "    initial_conditions = flowpm.linear_field([nc, nc, nc],\n",
    "                                           [box_size, box_size,\n",
    "                                           box_size],\n",
    "                                           pk_fun,\n",
    "                                           batch_size=1)\n",
    "    return initial_conditions "
   ]
  },
  {
   "cell_type": "code",
   "execution_count": 4,
   "metadata": {},
   "outputs": [
    {
     "name": "stdout",
     "output_type": "stream",
     "text": [
      "WARNING:tensorflow:@custom_gradient grad_fn has 'variables' in signature, but no ResourceVariables were used on the forward pass.\n"
     ]
    }
   ],
   "source": [
    "initial_conditions=compute_initial_cond(Omega_c).numpy()"
   ]
  },
  {
   "cell_type": "code",
   "execution_count": 5,
   "metadata": {},
   "outputs": [],
   "source": [
    "@tf.function\n",
    "def compute_Nbody_deriv(Omega_c):\n",
    "    \"\"\" Computes a N-body simulation for a given\n",
    "    set of cosmological parameters\n",
    "    \"\"\"\n",
    "    # Instantiates a cosmology with desired parameters\n",
    "    cosmology = flowpm.cosmology.Planck15(Omega_c=Omega_c)\n",
    "    stages = np.linspace(0.1, 1., nsteps, endpoint=True)\n",
    "\n",
    "    state = flowpm.lpt_init(cosmology, initial_conditions, 0.1)\n",
    "\n",
    "\n",
    "    # Evolve particles from initial state down to a=af\n",
    "    final_state = flowpm.nbody(cosmology, state, stages, [nc, nc,  nc])         \n",
    "\n",
    "    # Retrieve final density field i.e interpolate the particles to the mesh\n",
    "    final_field = flowpm.cic_paint(tf.zeros_like(initial_conditions), final_state[0])\n",
    "    final_field=tf.reshape(final_field, [nc, nc, nc])\n",
    "    params = tf.stack([Omega_c])\n",
    "    k, power_spectrum = pkl(final_field,shape=final_field.shape,boxsize=np.array([box_size, box_size,\n",
    "                                               box_size]),kmin=0.1,dk=2*np.pi/box_size)\n",
    "    return  power_spectrum"
   ]
  },
  {
   "cell_type": "code",
   "execution_count": 6,
   "metadata": {
    "scrolled": false
   },
   "outputs": [
    {
     "name": "stdout",
     "output_type": "stream",
     "text": [
      "WARNING:tensorflow:@custom_gradient grad_fn has 'variables' in signature, but no ResourceVariables were used on the forward pass.\n",
      "WARNING:tensorflow:From /Users/dl264294/.local/lib/python3.8/site-packages/tensorflow_probability/python/math/ode/base.py:459: calling while_loop_v2 (from tensorflow.python.ops.control_flow_ops) with back_prop=False is deprecated and will be removed in a future version.\n",
      "Instructions for updating:\n",
      "back_prop=False is deprecated. Consider using tf.stop_gradient instead.\n",
      "Instead of:\n",
      "results = tf.while_loop(c, b, vars, back_prop=False)\n",
      "Use:\n",
      "results = tf.nest.map_structure(tf.stop_gradient, tf.while_loop(c, b, vars))\n",
      "WARNING:tensorflow:@custom_gradient grad_fn has 'variables' in signature, but no ResourceVariables were used on the forward pass.\n",
      "WARNING:tensorflow:@custom_gradient grad_fn has 'variables' in signature, but no ResourceVariables were used on the forward pass.\n",
      "WARNING:tensorflow:@custom_gradient grad_fn has 'variables' in signature, but no ResourceVariables were used on the forward pass.\n"
     ]
    }
   ],
   "source": [
    "theoretical, numerical=tf.test.compute_gradient(\n",
    "    compute_Nbody_deriv, [0.2589], delta=0.01)"
   ]
  },
  {
   "cell_type": "code",
   "execution_count": 7,
   "metadata": {},
   "outputs": [],
   "source": [
    "@tf.function\n",
    "def Flow_jac(Omega_c):\n",
    "    \"\"\" Computes a N-body simulation for a given\n",
    "    set of cosmological parameters\n",
    "    \"\"\"\n",
    "    params = tf.stack([Omega_c])\n",
    "    with tf.GradientTape() as tape:\n",
    "        tape.watch(params)\n",
    "        cosmology = flowpm.cosmology.Planck15(Omega_c=params[0])\n",
    "        stages = np.linspace(0.1, 1., nsteps, endpoint=True)\n",
    "        state = flowpm.lpt_init(cosmology, initial_conditions, 0.1)\n",
    "\n",
    "\n",
    "        # Evolve particles from initial state down to a=af\n",
    "        final_state = flowpm.nbody(cosmology, state, stages, [nc, nc,  nc])         \n",
    "\n",
    "        # Retrieve final density field i.e interpolate the particles to the mesh\n",
    "        final_field = flowpm.cic_paint(tf.zeros_like(initial_conditions), final_state[0])\n",
    "        final_field=tf.reshape(final_field, [nc, nc, nc])\n",
    "        k, power_spectrum = pkl(final_field,shape=final_field.shape,boxsize=np.array([box_size, box_size,\n",
    "                                               box_size]),kmin=0.1,dk=2*np.pi/box_size)\n",
    "    return tape.jacobian(power_spectrum, params,experimental_use_pfor=False),k\n",
    "    "
   ]
  },
  {
   "cell_type": "code",
   "execution_count": 8,
   "metadata": {},
   "outputs": [],
   "source": [
    "jacobian,k =Flow_jac(0.2589)"
   ]
  },
  {
   "cell_type": "code",
   "execution_count": 9,
   "metadata": {},
   "outputs": [
    {
     "data": {
      "image/png": "[encoded data removed]",
      "text/plain": [
       "<Figure size 432x288 with 1 Axes>"
      ]
     },
     "metadata": {
      "needs_background": "light"
     },
     "output_type": "display_data"
    }
   ],
   "source": [
    "plot(k, numerical[0], label=r'${d P_k}/{d \\Omega_c}$ Finite Difference')\n",
    "plot(k, jacobian[:,0],'--',label=r'${d P_k}/{d \\Omega_c}$ Automatic Differentiation')\n",
    "xlabel('k [Mpc]')\n",
    "ylabel('$dP_k$')\n",
    "legend()\n",
    "savefig('psfinit.png',dpi=175)"
   ]
  },
  {
   "cell_type": "code",
   "execution_count": null,
   "metadata": {},
   "outputs": [],
   "source": []
  }
 ],
 "metadata": {
  "kernelspec": {
   "display_name": "Python 3",
   "language": "python",
   "name": "python3"
  },
  "language_info": {
   "codemirror_mode": {
    "name": "ipython",
    "version": 3
   },
   "file_extension": ".py",
   "mimetype": "text/x-python",
   "name": "python",
   "nbconvert_exporter": "python",
   "pygments_lexer": "ipython3",
   "version": "3.8.5"
  }
 },
 "nbformat": 4,
 "nbformat_minor": 4
}
