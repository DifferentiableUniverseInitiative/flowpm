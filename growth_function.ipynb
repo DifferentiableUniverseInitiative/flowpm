{
 "cells": [
  {
   "cell_type": "code",
   "execution_count": 16,
   "metadata": {},
   "outputs": [],
   "source": [
    "import numpy as np\n",
    "import tensorflow as tf\n",
    "import flowpm"
   ]
  },
  {
   "cell_type": "code",
   "execution_count": 46,
   "metadata": {},
   "outputs": [],
   "source": [
    "cosmo={\"w0\":-1.0,\n",
    "       \"wa\":0.0,\n",
    "       \"H0\":100,\n",
    "       \"h\":0.6774,\n",
    "       \"Omega0_b\":0.04860,\n",
    "       \"Omega0_c\":0.2589,\n",
    "       \"Omega0_m\":0.3075,\n",
    "       \"Omega0_k\":0.0,\n",
    "       \"Omega0_de\":0.6925,\n",
    "       \"n_s\":0.9667,\n",
    "       \"sigma8\":0.8159}\n",
    "\n",
    "# Planck 2015 paper XII Table 4 final column (best fit)"
   ]
  },
  {
   "cell_type": "code",
   "execution_count": 40,
   "metadata": {},
   "outputs": [
    {
     "name": "stdout",
     "output_type": "stream",
     "text": [
      "tf.Tensor(-0.08360201, shape=(), dtype=float32)\n"
     ]
    }
   ],
   "source": [
    "def fde(cosmo,a,epsilon=1e-5):\n",
    "    a=tf.convert_to_tensor(a,dtype=tf.float32)\n",
    "    w0=tf.convert_to_tensor(cosmo[\"w0\"],dtype=tf.float32)\n",
    "    wa=tf.convert_to_tensor(cosmo[\"wa\"],dtype=tf.float32)\n",
    "    return (-3.0*(1.0+w0)+\n",
    "            3.0*wa*((a-1.0)/tf.math.log(a-epsilon)-1.0))\n",
    "\n",
    "print(fde(cosmo,0.5))"
   ]
  },
  {
   "cell_type": "code",
   "execution_count": 44,
   "metadata": {},
   "outputs": [
    {
     "name": "stdout",
     "output_type": "stream",
     "text": [
      "tf.Tensor(-0.95, shape=(), dtype=float32)\n"
     ]
    }
   ],
   "source": [
    "def w(cosmo,a):\n",
    "    a=tf.convert_to_tensor(a,dtype=tf.float32)\n",
    "    w0=tf.convert_to_tensor(cosmo[\"w0\"],dtype=tf.float32)\n",
    "    wa=tf.convert_to_tensor(cosmo[\"wa\"],dtype=tf.float32)\n",
    "    return w0+wa*(1.0-a)\n",
    "print(w(cosmo,0.5))"
   ]
  },
  {
   "cell_type": "code",
   "execution_count": 47,
   "metadata": {},
   "outputs": [
    {
     "name": "stdout",
     "output_type": "stream",
     "text": [
      "tf.Tensor(1.7834151, shape=(), dtype=float32)\n"
     ]
    }
   ],
   "source": [
    "def E(cosmo,a):\n",
    "    a=tf.convert_to_tensor(a,dtype=tf.float32)\n",
    "    return(tf.math.sqrt(\n",
    "        cosmo[\"Omega0_m\"]/tf.pow(a, 3)\n",
    "        +cosmo[\"Omega0_k\"]/tf.pow(a, 2)\n",
    "        +cosmo[\"Omega0_de\"]*tf.pow(a, fde(cosmo,a))))"
   ]
  },
  {
   "cell_type": "code",
   "execution_count": 61,
   "metadata": {},
   "outputs": [],
   "source": [
    "def dfde(cosmo,a,epsilon=1e-5):\n",
    "    a=tf.convert_to_tensor(a,dtype=tf.float32)\n",
    "    wa=tf.convert_to_tensor(cosmo[\"wa\"],dtype=tf.float32)\n",
    "    return (3*wa*\n",
    "            (tf.math.log(a-epsilon)-(a-1)/(a-epsilon))\n",
    "            /tf.math.pow(tf.math.log(a-epsilon),2))"
   ]
  },
  {
   "cell_type": "code",
   "execution_count": 51,
   "metadata": {},
   "outputs": [
    {
     "name": "stdout",
     "output_type": "stream",
     "text": [
      "tf.Tensor(0.19159111, shape=(), dtype=float32)\n"
     ]
    }
   ],
   "source": [
    "def dEa(cosmo,a,epsilon=1e-5):\n",
    "    a=tf.convert_to_tensor(a,dtype=tf.float32)\n",
    "    return 0.5*(-3*Omega0_m/tf.pow(a, 4)-2*Omega0_k/tf.pow(a, 3)\n",
    "    +dfde(cosmo,a)*Omega0_de*tf.pow(a, fde(cosmo,a)))\n",
    "    \n"
   ]
  },
  {
   "cell_type": "code",
   "execution_count": 36,
   "metadata": {},
   "outputs": [],
   "source": [
    "def growt(a,y):\n",
    "     a=tf.convert_to_tensor(a)\n",
    "     y=tf.convert_to_tensor(y)\n",
    "     fa= y\n",
    "     dyda=[tf.pow(fa,2)*a+[2*a-tf.convert_to_tensor(cosmo[\"Ho\"])*(dEa/E(a))]*fa+1.5*Omega0_m*a]\n",
    "     return dyda\n",
    "    "
   ]
  },
  {
   "cell_type": "code",
   "execution_count": null,
   "metadata": {},
   "outputs": [],
   "source": []
  }
 ],
 "metadata": {
  "kernelspec": {
   "display_name": "Python 3",
   "language": "python",
   "name": "python3"
  },
  "language_info": {
   "codemirror_mode": {
    "name": "ipython",
    "version": 3
   },
   "file_extension": ".py",
   "mimetype": "text/x-python",
   "name": "python",
   "nbconvert_exporter": "python",
   "pygments_lexer": "ipython3",
   "version": "3.8.3"
  }
 },
 "nbformat": 4,
 "nbformat_minor": 4
}
