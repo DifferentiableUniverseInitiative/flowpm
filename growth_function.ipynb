{
 "cells": [
  {
   "cell_type": "code",
   "execution_count": 1,
   "metadata": {},
   "outputs": [],
   "source": [
    "import numpy as np\n",
    "import tensorflow as tf\n",
    "import flowpm\n",
    "import tensorflow_probability as tfp"
   ]
  },
  {
   "cell_type": "code",
   "execution_count": 2,
   "metadata": {},
   "outputs": [],
   "source": [
    "cosmo={\"w0\":-1.0,\n",
    "       \"wa\":0.0,\n",
    "       \"H0\":100,\n",
    "       \"h\":0.6774,\n",
    "       \"Omega0_b\":0.04860,\n",
    "       \"Omega0_c\":0.2589,\n",
    "       \"Omega0_m\":0.3075,\n",
    "       \"Omega0_k\":0.0,\n",
    "       \"Omega0_de\":0.6925,\n",
    "       \"n_s\":0.9667,\n",
    "       \"sigma8\":0.8159}\n",
    "\n",
    "# Planck 2015 paper XII Table 4 final column (best fit)"
   ]
  },
  {
   "cell_type": "code",
   "execution_count": 3,
   "metadata": {},
   "outputs": [
    {
     "name": "stdout",
     "output_type": "stream",
     "text": [
      "tf.Tensor(-0.0, shape=(), dtype=float32)\n"
     ]
    }
   ],
   "source": [
    "def fde(cosmo,a,epsilon=1e-5):\n",
    "    a=tf.convert_to_tensor(a,dtype=tf.float32)\n",
    "    w0=tf.convert_to_tensor(cosmo[\"w0\"],dtype=tf.float32)\n",
    "    wa=tf.convert_to_tensor(cosmo[\"wa\"],dtype=tf.float32)\n",
    "    return (-3.0*(1.0+w0)+\n",
    "            3.0*wa*((a-1.0)/tf.math.log(a-epsilon)-1.0))\n",
    "\n",
    "print(fde(cosmo,0.5))"
   ]
  },
  {
   "cell_type": "code",
   "execution_count": 4,
   "metadata": {},
   "outputs": [
    {
     "name": "stdout",
     "output_type": "stream",
     "text": [
      "tf.Tensor(-1.0, shape=(), dtype=float32)\n"
     ]
    }
   ],
   "source": [
    "def w(cosmo,a):\n",
    "    a=tf.convert_to_tensor(a,dtype=tf.float32)\n",
    "    w0=tf.convert_to_tensor(cosmo[\"w0\"],dtype=tf.float32)\n",
    "    wa=tf.convert_to_tensor(cosmo[\"wa\"],dtype=tf.float32)\n",
    "    return w0+wa*(1.0-a)\n",
    "print(w(cosmo,0.5))"
   ]
  },
  {
   "cell_type": "code",
   "execution_count": 5,
   "metadata": {},
   "outputs": [],
   "source": [
    "def E(cosmo,a):\n",
    "    a=tf.convert_to_tensor(a,dtype=tf.float32)\n",
    "    return(tf.math.sqrt(\n",
    "        cosmo[\"Omega0_m\"]/tf.pow(a, 3)\n",
    "        +cosmo[\"Omega0_k\"]/tf.pow(a, 2)\n",
    "        +cosmo[\"Omega0_de\"]*tf.pow(a, fde(cosmo,a))))"
   ]
  },
  {
   "cell_type": "code",
   "execution_count": 6,
   "metadata": {},
   "outputs": [],
   "source": [
    "def H(cosmo, a):\n",
    "    a=tf.convert_to_tensor(a,dtype=tf.float32)\n",
    "    return cosmo[\"H0\"]*cosmo[\"h\"] *(E(cosmo, a))"
   ]
  },
  {
   "cell_type": "code",
   "execution_count": 7,
   "metadata": {},
   "outputs": [],
   "source": [
    "def dfde(cosmo,a,epsilon=1e-5):\n",
    "    a=tf.convert_to_tensor(a,dtype=tf.float32)\n",
    "    wa=tf.convert_to_tensor(cosmo[\"wa\"],dtype=tf.float32)\n",
    "    return (3*wa*\n",
    "            (tf.math.log(a-epsilon)-(a-1)/(a-epsilon))\n",
    "            /tf.math.pow(tf.math.log(a-epsilon),2))"
   ]
  },
  {
   "cell_type": "code",
   "execution_count": 8,
   "metadata": {},
   "outputs": [],
   "source": [
    "def dEa(cosmo,a,epsilon=1e-5):\n",
    "    a=tf.convert_to_tensor(a,dtype=tf.float32)\n",
    "    return 0.5*(-3*cosmo[\"Omega0_m\"]/tf.pow(a, 4)-2*cosmo[\"Omega0_k\"]/tf.pow(a, 3)\n",
    "    +dfde(cosmo,a)*cosmo[\"Omega0_de\"]*tf.pow(a, fde(cosmo,a)))\n",
    "    \n"
   ]
  },
  {
   "cell_type": "code",
   "execution_count": 35,
   "metadata": {},
   "outputs": [],
   "source": [
    "log10_amin=-3\n",
    "steps=128\n",
    "atab = np.logspace(log10_amin, 0.0, steps)\n",
    "atab=tf.convert_to_tensor(atab,dtype=tf.float32)\n",
    "y0 = 1\n",
    "y0 = tf.convert_to_tensor(y0,dtype=tf.float32)"
   ]
  },
  {
   "cell_type": "code",
   "execution_count": 36,
   "metadata": {},
   "outputs": [],
   "source": [
    "@tf.function\n",
    "def growt(y,a):\n",
    "    a=tf.convert_to_tensor(a,dtype=tf.float32)\n",
    "    dyda=tf.pow(y,2)*a+(2*a-(dEa(cosmo,a)/E(cosmo,a)))*y+1.5*cosmo[\"Omega0_m\"]*a\n",
    "    return dyda"
   ]
  },
  {
   "cell_type": "code",
   "execution_count": 37,
   "metadata": {},
   "outputs": [],
   "source": [
    "@tf.function\n",
    "def odesolve(atab,y0):\n",
    "    solver=tfp.math.ode.BDF()\n",
    "    results = solver.solve(growt,atab[0], y0, solution_times=atab)\n",
    "    return results\n"
   ]
  },
  {
   "cell_type": "code",
   "execution_count": 38,
   "metadata": {},
   "outputs": [
    {
     "name": "stdout",
     "output_type": "stream",
     "text": [
      "WARNING:tensorflow:@custom_gradient grad_fn has 'variables' in signature, but no ResourceVariables were used on the forward pass.\n"
     ]
    }
   ],
   "source": [
    "results=odesolve(atab,y0)"
   ]
  },
  {
   "cell_type": "code",
   "execution_count": 20,
   "metadata": {},
   "outputs": [
    {
     "name": "stdout",
     "output_type": "stream",
     "text": [
      "Results(times=<tf.Tensor: shape=(4,), dtype=float32, numpy=array([0.001, 0.01 , 0.1  , 1.   ], dtype=float32)>, states=<tf.Tensor: shape=(4, 1), dtype=float32, numpy=\n",
      "array([[1.       ],\n",
      "       [1.0027739],\n",
      "       [1.0309278],\n",
      "       [1.3596482]], dtype=float32)>, diagnostics=_BDFDiagnostics(num_jacobian_evaluations=<tf.Tensor: shape=(), dtype=int32, numpy=9>, num_matrix_factorizations=<tf.Tensor: shape=(), dtype=int32, numpy=9>, num_ode_fn_evaluations=<tf.Tensor: shape=(), dtype=int32, numpy=18>, status=<tf.Tensor: shape=(), dtype=int32, numpy=0>), solver_internal_state=_BDFSolverInternalState(backward_differences=<tf.Tensor: shape=(8, 1), dtype=float32, numpy=\n",
      "array([[1.3596482e+00],\n",
      "       [5.0898723e-02],\n",
      "       [1.9029826e-03],\n",
      "       [6.9327638e-05],\n",
      "       [3.6135204e-06],\n",
      "       [3.6135204e-06],\n",
      "       [0.0000000e+00],\n",
      "       [0.0000000e+00]], dtype=float32)>, order=<tf.Tensor: shape=(), dtype=int32, numpy=3>, step_size=<tf.Tensor: shape=(), dtype=float32, numpy=0.12407291>))\n"
     ]
    }
   ],
   "source": [
    "print(results)"
   ]
  },
  {
   "cell_type": "code",
   "execution_count": 39,
   "metadata": {},
   "outputs": [
    {
     "name": "stdout",
     "output_type": "stream",
     "text": [
      "tf.Tensor(\n",
      "[1.        1.0000259 1.0000532 1.0000821 1.0001128 1.0001451 1.0001792\n",
      " 1.000215  1.000253  1.000293  1.0003355 1.0003803 1.0004277 1.0004778\n",
      " 1.0005307 1.0005867 1.000646  1.0007085 1.0007743 1.0008439 1.0009176\n",
      " 1.0009953 1.0010777 1.0011646 1.0012565 1.0013536 1.0014563 1.0015647\n",
      " 1.0016797 1.0018009 1.001929  1.0020647 1.0022082 1.0023602 1.002521\n",
      " 1.0026908 1.0028707 1.003061  1.0032625 1.0034759 1.0037016 1.0039406\n",
      " 1.0041937 1.0044616 1.0047457 1.0050464 1.0053649 1.0057025 1.0060604\n",
      " 1.0064398 1.006842  1.0072688 1.0077217 1.008202  1.0087116 1.0092531\n",
      " 1.009828  1.0104389 1.0110883 1.0117785 1.0125122 1.0132929 1.0141238\n",
      " 1.0150082 1.0159498 1.0169532 1.0180227 1.0191631 1.0203799 1.0216789\n",
      " 1.0230659 1.0245482 1.0261332 1.0278286 1.0296433 1.0315871 1.0336705\n",
      " 1.035905  1.0383034 1.0408794 1.0436484 1.046627  1.0498338 1.053289\n",
      " 1.0570154 1.0610374 1.0653828 1.0700821 1.0751693 1.080682  1.0866627\n",
      " 1.0931575 1.1002197 1.1079074 1.116287  1.1254327 1.1354287 1.1463703\n",
      " 1.1586868 1.1716745 1.1861739 1.2021425 1.219759  1.2392628 1.2608901\n",
      " 1.2849317 1.311726  1.3416727 1.3752465 1.4130118 1.4556476 1.5039738\n",
      " 1.5589893 1.6219186 1.6942778 1.7779568 1.8753366 1.9894482 2.1241825\n",
      " 2.2846038 2.4773755 2.711395  2.9987106 3.3559034 3.806203  4.3827934\n",
      " 5.130669  6.128717 ], shape=(128,), dtype=float32)\n"
     ]
    }
   ],
   "source": [
    "print(results.states)"
   ]
  },
  {
   "cell_type": "code",
   "execution_count": 40,
   "metadata": {},
   "outputs": [
    {
     "name": "stdout",
     "output_type": "stream",
     "text": [
      "Populating the interactive namespace from numpy and matplotlib\n"
     ]
    },
    {
     "data": {
      "text/plain": [
       "[<matplotlib.lines.Line2D at 0x7fb4f95d1d00>]"
      ]
     },
     "execution_count": 40,
     "metadata": {},
     "output_type": "execute_result"
    },
    {
     "data": {
      "image/png": "[encoded data removed]",
      "text/plain": [
       "<Figure size 432x288 with 1 Axes>"
      ]
     },
     "metadata": {
      "needs_background": "light"
     },
     "output_type": "display_data"
    }
   ],
   "source": [
    "%pylab inline\n",
    "plot(results.times,results.states)"
   ]
  },
  {
   "cell_type": "code",
   "execution_count": null,
   "metadata": {},
   "outputs": [],
   "source": []
  }
 ],
 "metadata": {
  "kernelspec": {
   "display_name": "Python 3",
   "language": "python",
   "name": "python3"
  },
  "language_info": {
   "codemirror_mode": {
    "name": "ipython",
    "version": 3
   },
   "file_extension": ".py",
   "mimetype": "text/x-python",
   "name": "python",
   "nbconvert_exporter": "python",
   "pygments_lexer": "ipython3",
   "version": "3.8.3"
  }
 },
 "nbformat": 4,
 "nbformat_minor": 4
}
